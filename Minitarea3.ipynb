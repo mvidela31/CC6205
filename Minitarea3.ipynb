{
 "cells": [
  {
   "cell_type": "markdown",
   "metadata": {
    "ExecuteTime": {
     "end_time": "2020-03-19T18:30:18.109327Z",
     "start_time": "2020-03-19T18:30:18.103344Z"
    },
    "colab_type": "text",
    "id": "q5CSRY4oNCHK"
   },
   "source": [
    "\n",
    "# Minitarea 3\n",
    "\n",
    "\n",
    "-----------------\n",
    "\n",
    "Nombre: Miguel Videla\n",
    "\n",
    "Fecha de Entrega: Martes 9 de Junio\n",
    "\n",
    "\n",
    "## Instrucciones\n",
    "\n",
    "- El ejercicio consiste en:\n",
    "\n",
    "    - Responder preguntas relativas a los contenidos vistos en los vídeos y slides de las clases. \n",
    "    \n",
    "    - Entrenar Word2Vec y FastText sobre un pequeño corpus.\n",
    "    \n",
    "    - Evaluar los embeddings obtenidos en una tarea de clasificación.\n",
    "\n",
    "- La minitarea es INDIVIDUAL.\n",
    "\n",
    "- Está demás decir que no se admiten copias, ni de código, ni de respuestas escritas. \n",
    "\n",
    "- La entrega debe ser por u-cursos.\n",
    "\n",
    "- Atrasos: se descontará un punto por día hábil de atraso tanto para las mini-tareas como para las competencias.\n",
    "\n",
    "- En el horario de auxiliar se abrirán horarios de consulta en donde podrán preguntar acerca del ejercicio y en general, de todo el curso. \n",
    "\n",
    "- Cada sección tiene un punto base y se evalúa sobre 6 puntos.\n",
    "\n",
    "- Al revisar, tu código será ejecutado. Verifica que tu entrega no tenga errores.\n",
    "\n",
    "\n",
    "## Referencias   \n",
    "\n",
    "Vídeos: \n",
    "\n",
    "- [Linear Models](https://youtu.be/zhBxDsNLZEA)\n",
    "- [Neural Networks](https://youtu.be/oHZHA8h2xN0)\n",
    "- [Word Embeddings](https://youtu.be/wtwUsJMC9CA)"
   ]
  },
  {
   "cell_type": "markdown",
   "metadata": {
    "colab_type": "text",
    "id": "G4wYf0vgnbTv"
   },
   "source": [
    "## Preguntas Teóricas\n",
    "Para estas preguntas no es necesario implementar código, pero pueden utilizar pseudo código."
   ]
  },
  {
   "cell_type": "markdown",
   "metadata": {
    "colab_type": "text",
    "id": "B5hUG6-8ngoK"
   },
   "source": [
    "### Parte 1: Modelos Lineales"
   ]
  },
  {
   "cell_type": "markdown",
   "metadata": {
    "colab_type": "text",
    "id": "5yRvZbhsoi8f"
   },
   "source": [
    "Suponga que tiene un dataset de 10.000 documentos etiquetados por 4 categorías: política, deporte, negocios y otros. "
   ]
  },
  {
   "cell_type": "markdown",
   "metadata": {
    "colab_type": "text",
    "id": "irsqBVmCnx3M"
   },
   "source": [
    "**Pregunta 1**: Diseñe un modelo lineal capaz de clasificar un documento según estas categorías donde el output sea un vector con una distribución de probabilidad con la pertenencia a cada clase. (3 puntos)\n",
    "\n",
    "**Respuesta**: \n",
    "\n",
    "Sea $\\mathcal{C}=\\{(\\vec{x}^{(i)},\\vec{y}^{(i)})\\}_{i=1}^{10000}$ el corpus de documentos con $\\vec{x}^{(i)}\\in\\mathbb{R}^{1\\times m}$ el vector de características escogido para el documento $i$ (Por ejemplo: n-gramas, contadores de palabras/caractéres significativos/más frecuentes de cada tema, BoW, embeddings, concatenación ponderada, etc.), e $\\vec{y}^{(i)}\\in \\mathbb{R}^{1\\times 4}$ el vector *one-hot* correspondiente a su etiqueta. Definimos el modelo lineal de clasificación como:\n",
    "\n",
    "\\begin{equation}\n",
    "    \\vec{\\hat{y}}^{(i)}=\\text{softmax}(\\vec{x}^{(i)}\\cdot W + \\vec{b})\n",
    "    \\tag{1}\n",
    "\\end{equation}\n",
    "\n",
    "con $W\\in \\mathbb{R}^{m \\times 4}$ y $\\vec{b}\\in \\mathbb{R}^{1\\times 4}$ la matriz de parámetros y el vector de sesgos del modelo lineal, respectivamente, y $\\text{softmax}(\\vec{x}^{(i)})=e^{\\vec{x}^{(i)}}/\\sum_{j=1}^{|\\vec{x}^{(i)}|} e^{\\vec{x}_j^{(i)}}$, la extensión multidimensional de la función sigmoide $\\sigma(\\cdot)$, la cual satisface que $\\text{softmax}(\\vec{x}^{(i)})\\in [0,1]$ y $\\sum_j\\text{softmax}(\\vec{x}_j^{(i)})=1$, por tanto, el vector resultante $\\vec{\\hat{y}}_i$ puede ser interpretado como una distribución de probabilidad con la pertenencia a cada clase. De este modo, la clasificación de un vector de características $\\vec{x}^{(i)}$ asociado al documento $i$ queda determinado por $\\text{argmax}_j\\vec{\\hat{y}}_j^{(i)}$."
   ]
  },
  {
   "cell_type": "markdown",
   "metadata": {
    "colab_type": "text",
    "id": "G5FaWqBVvL90"
   },
   "source": [
    "**Pregunta 2**: Explique el proceso de entrenamiento y evaluación del modelo. (3 puntos)\n",
    "\n",
    "**Respuesta**: \n",
    "\n",
    "Sea $\\mathcal{L}_\\Theta(\\hat{\\vec{y}},\\vec{y})$ una función de pérdida, la cual denota la discrepancia de la predicción $\\hat{\\vec{y}}$ con respecto a la etiqueta real $\\vec{y}$ de los datos, el entrenamiento del modelo busca que los parámetros del modelo lineal $\\Theta=\\{W,\\vec{b}\\}$ que minimicen la pérdida, es decir, se debe resolver el problema de optimización $\\text{argmin}_\\Theta \\mathcal{L}_\\Theta(\\hat{\\vec{y}},\\vec{y})$. Para ello, se utiliza el método de gradiente descendente, el cual actualiza los parámetros del modelo de acuerdo a la dirección opuesta al gradiente de la función de pérdida de manera iterativa: \n",
    "\n",
    "\\begin{equation}\n",
    "\\Theta^{(t+1)} \\leftarrow \\Theta^{(t)} -\\eta \\cdot \\nabla \\mathcal{L}_\\Theta(\\hat{\\vec{y}},\\vec{y})\n",
    "\\tag{2}\n",
    "\\end{equation}\n",
    "\n",
    "con $\\eta$ la tasa de aprendizaje y $t$ la iteración del método. Se observa que el método de gradiente descendente asegura alcanzar el mínimo global si, y sólo si, el espacio de optimización es convexo, en caso contrario, sólo se alcanzarán mínimos locales. En la práctica se utiliza la técnica de gradiente descendente estocástico, la cual computa la actualización del gradiente descendente sobre *mini-batches* o particiones de tamaño $B$ del conjunto de datos $\\mathcal{C}$, robusteciendo el entrenamiento frente a ruido en la actualización.\n",
    "\n",
    "Comúnmente se utilza la función de pérdida *cross-entropy* para problemas de clasificación, la cual se define como:\n",
    "\n",
    "\\begin{equation}\n",
    "\\mathcal{L}_{\\text{cross-entropy}}(\\hat{\\vec{y}},\\vec{y})=-\\sum_i \\vec{y}^{(i)}\\log{\\vec{\\hat{y}}^{(i)}}\n",
    "\\tag{3}\n",
    "\\end{equation}\n",
    "\n",
    "Para validar el modelo, se suele particionar el conjunto de datos en 3 subparticiones $\\mathcal{C}=\\mathcal{C}_{train}\\dot\\cup \\mathcal{C}_{validation}\\dot\\cup \\mathcal{C}_{test}$, donde la subpartición $\\mathcal{C}_{train}$ es utilizada para entrenar el modelo mediante el método de gradiente descendente estocástico anteriormente descrito, mientras que el conjunto $\\mathcal{C}_{validation}$ es utilizado para verificar el desempeño del modelo frente a datos no vistos en entrenamiento con el fin de evitar el sobreajuste y para ajustar hiperparámetros del mismo, tales como la cantidad de óptima de iteraciones de entrenamiento o el valor de la tasa de aprendizaje $\\eta$. Una vez encontrada la configuración parámetrica óptima en cuanto a capacidad de generalización, el modelo es operado sobre la tercera partición $\\mathcal{C}_{test}$ para evaluar su desempeño final."
   ]
  },
  {
   "cell_type": "markdown",
   "metadata": {
    "colab_type": "text",
    "id": "XkK7pc54njZq"
   },
   "source": [
    "### Parte 2: Redes Neuronales"
   ]
  },
  {
   "cell_type": "markdown",
   "metadata": {
    "colab_type": "text",
    "id": "VUbJjlj_9AFC"
   },
   "source": [
    "Supongamos que tenemos la siguiente red neuronal."
   ]
  },
  {
   "attachments": {
    "image.png": {
     "image/png": "[encoded data removed]"
    }
   },
   "cell_type": "markdown",
   "metadata": {
    "colab_type": "text",
    "id": "obUfuOYB_TOC"
   },
   "source": [
    "![image.png](attachment:image.png)"
   ]
  },
  {
   "cell_type": "markdown",
   "metadata": {
    "colab_type": "text",
    "id": "s2z-8zKW0_6q"
   },
   "source": [
    "**Pregunta 1**: En clases les explicaron como se puede representar una red neuronal de una y dos capas de manera matemática. Dada la red neuronal anterior, represéntela matemáticamente, entregando las dimensiones de las matrices y vectores. (3 Puntos)\n",
    "\n",
    "**Respuesta**: \n",
    "\n",
    "La salida de la red neuronal descrita queda expresada como:\n",
    "\n",
    "\\begin{equation}\n",
    "\\vec{\\hat{y}} = NN_{MLP3}\\big(\\vec{x}\\big) =h\\big(f\\big(g\\big(x\\cdot W^{1} + \\vec{b}^1\\big)\\cdot W^2 + \\vec{b}^2\\big)\\cdot W^3 + \\vec{b}^3\\big)\\big)\\cdot W^4 + \\vec{b}^4\n",
    "\\tag{4}\n",
    "\\end{equation}\n",
    "\n",
    "con $\\vec{x}\\in \\mathbb{R}^{n\\times 3}$, $W^1\\in \\mathbb{R}^{3\\times 2}$, $W^2\\in \\mathbb{R}^{2\\times 3}$, $W^3\\in \\mathbb{R}^{3\\times 1}$, $W^4\\in \\mathbb{R}^{1\\times 4}$, $\\vec{b}^1\\in \\mathbb{R}^2$, $\\vec{b}^2\\in \\mathbb{R}^3$, $\\vec{b}^3\\in \\mathbb{R}^1$, $\\vec{b}^4\\in \\mathbb{R}^4$ y $\\vec{\\hat{y}}\\in \\mathbb{R}^{n\\times 4}$. Notar que para operar adecuadamente las matrices de pesos $W^{a\\times b}$ con un vector de sesgo $\\vec{b}\\in \\mathbb{R}^b$ mediante la suma ($+$), este último es replicado $a$-veces para obtener un vector de dimensión $\\vec{b}\\in \\mathbb{R}^{a\\times b}$, operación conocida como *broadcasting*.\n",
    "\n",
    "**Pregunta 2**: Qué es backpropagation? Cuales serían los parámetros a evaluar en la red neuronal anterior? (1 punto)\n",
    "\n",
    "**Respuesta**:\n",
    "\n",
    "El método *backpropagtion* permite el cálculo de los gradientes de una función de costo $\\mathcal{L}(\\hat{\\vec{y}},\\vec{y})$ con respecto a cada parámetro del modelo de red neuronal de manera dinámica, utilizando el cómputo de los gradientes de la función de costo respecto a los parámetros más cercanos a la salida del modelo para el cálculo de los gradientes de la función de costo respecto a los parámetros anteriores sucesivamente por medio de la regla de la cadena de derivadas parciales, permitiendo propagar la pérdida \"*hacia atrás*\" en los parámetros del modelo, permitiendo la actualización de los mismos mediante algún método basado en gradiente, como por ejemplo, el método de gradiente descendente estocástico descrito en la sección anterior.\n",
    "\n",
    "Los gradientes del modelo anterior a calcular para actualizar cada uno de los parámetros del modelo $w=\\{W^4,\\vec{b}^4,W^3,\\vec{b}^3,W^2,\\vec{b}^2,W^1,\\vec{b}^1\\}$ mediante algún método basado en gradiente son de la forma $\\frac{\\partial \\mathcal{L}(\\hat{\\vec{y}},\\vec{y})}{\\partial w}$.\n",
    "\n",
    "\n",
    "\n",
    "**Pregunta 3**: Explique los pasos de backpropagation. En la red neuronal anterior: Cuales son las derivadas que debemos calcular para poder obtener $\\vec{\\delta^l_{[j]}}$ en todas las capas? (2 puntos)\n",
    "\n",
    "**Respuesta**:\n",
    "\n",
    "<p>Los pasos del algoritmo <i>backpropagation</i> son los siguientes:</p>\n",
    "<p>&nbsp; &nbsp; 1. Pasada \"hacia a delante\" o <i>forward-feed</i> de un conjunto de datos $\\vec{x}\\in \\mathbb{R}^{n\\times 3}$ por el modelo neuronal mediante la ecuación (4).</p>\n",
    "<p>&nbsp; &nbsp; 2. Cálculo de gradientes \"hacia a atrás\" o <i>backward</i> $\\frac{\\partial \\mathcal{L}(\\hat{\\vec{y}},\\vec{y})}{\\partial w}$ de parámetros del modelo $w=\\{W^4,\\vec{b}^4,W^3,\\vec{b}^3,W^2,\\vec{b}^2,W^1,\\vec{b}^1\\}$.</p>\n",
    "<p>&nbsp; &nbsp; 3. Actualización de parámetros $w$ del modelo mediante método basado en gradiente, tal como el expresado en la ecuación (2).</p>\n",
    "\n",
    "Sea $\\vec{h}^l_{[j]}=\\sum_i W^l_{[i,j]}\\cdot z^{l-1}_{[i]}+\\vec{b}^l_{[j]}$ la unidad $j$ obtenida de la transformación lineal realizada por la capa $l$ dada una entrada $z^{l-1}_{[j]}=g\\big(\\vec{h}^{l-1}_{[j]}\\big)$ correspondiente a la aplicación de una función de activación $g$ sobre la transformación lineal de la capa precedente $l-1$, con $l=\\{1,2,3,4\\}$. Se define la variable $\\vec{\\delta}^l_{[j]}$ como el gradiente de la capa $l$:\n",
    "\n",
    "\\begin{equation}\n",
    "\\vec{\\delta}^l_{[j]}:=\\frac{\\partial \\mathcal{L}}{\\partial \\vec{h}^l}=\\sum_k \\Bigg(\\frac{\\partial \\mathcal{L}}{\\partial \\vec{h}^{l+1}} \\frac{\\partial \\vec{h}^{l+1}}{\\partial \\vec{h}^{l}} \\Bigg)\n",
    "\\tag{5}\n",
    "\\end{equation}\n",
    "\n",
    "Utilizando la regla de la cadena de derivadas parciales, y notando que $\\frac{\\partial\\vec{h}_{[j]}^l}{\\partial W_{[i,j]}^l}=\\vec{z}_{i}^{l-1}$ la siguiente ecuación retro-propagada para el término $\\vec{\\delta}^l_{[j]}$:\n",
    "\n",
    "\\begin{equation}\n",
    "\\vec{\\delta}^l_{[j]}:=\\frac{\\partial \\mathcal{L}}{\\partial \\vec{h}^l}=g'\\big(\\vec{h}^l_{[j]}\\big)\\sum_k \\vec{\\delta}_{[k]}^{l+1}W_{[j,k]}^{l+1}\n",
    "\\tag{6}\n",
    "\\end{equation}\n",
    "\n",
    "donde el término $\\vec{\\delta}^4_{[j]}=\\frac{\\partial \\mathcal{L}}{\\partial \\vec{h}^4_{[j]}}=\\frac{\\partial \\mathcal{L}}{\\partial \\hat{y}_{[j]}}$ corresponde al gradiente de la capa de salida trivial de calcular y $\\vec{z}^0_{[j]}=\\vec{x}_{[j]}$ corresponde a la entrada conocida. \n",
    "\n",
    "Finalmente, las derivadas de la función de costo en función de los parámetros del modelo se obtienen mediante la siguiente ecuación:\n",
    "\n",
    "\\begin{equation}\n",
    "\\frac{\\partial \\mathcal{L}(\\hat{\\vec{y}},\\vec{y})}{\\partial W^l_{[i,j]}}=\\frac{\\partial \\mathcal{L}}{\\partial \\vec{h}^l}\\frac{\\partial\\vec{h}_{[j]}^l}{\\partial W_{[i,j]}^l}=\\vec{\\delta}^l_{[j]}\\vec{z}^{l-1}_{[i]}\n",
    "\\tag{7}\n",
    "\\end{equation}\n",
    "\n",
    "Por lo tanto, las derivadas a calcular son las mencionadas en las expresiones anteriores."
   ]
  },
  {
   "cell_type": "markdown",
   "metadata": {
    "colab_type": "text",
    "id": "ocS_vQhR1gcU"
   },
   "source": [
    "## Pregunta Práctica:"
   ]
  },
  {
   "cell_type": "markdown",
   "metadata": {
    "colab_type": "text",
    "id": "Ol82nJ0FnmcP"
   },
   "source": [
    "### Parte 3: Word Embeddings"
   ]
  },
  {
   "cell_type": "markdown",
   "metadata": {
    "colab_type": "text",
    "id": "OgmeSFqKLpFL"
   },
   "source": [
    "En la auxiliar 2 aprendieron como entrenar Word2Vec utilizando gensim. El objetivo de esta parte es comparar los embeddings obtenidos con dos modelos diferentes: Word2Vec y [FastText](https://radimrehurek.com/gensim/models/fasttext.html) (utilizen size=200 en FastText) entrenados en el mismo dataset de diálogos de los Simpson. "
   ]
  },
  {
   "cell_type": "code",
   "execution_count": 1,
   "metadata": {
    "colab": {},
    "colab_type": "code",
    "id": "ecCvnryeQiG7"
   },
   "outputs": [],
   "source": [
    "import re  \n",
    "import pandas as pd \n",
    "from time import time  \n",
    "from collections import defaultdict \n",
    "import string \n",
    "import multiprocessing\n",
    "import os\n",
    "import gensim\n",
    "import sklearn\n",
    "from sklearn import linear_model\n",
    "from collections import Counter\n",
    "import numpy as np\n",
    "from sklearn.metrics import accuracy_score, precision_score, recall_score, f1_score, roc_auc_score, confusion_matrix, cohen_kappa_score, classification_report\n",
    "from sklearn.linear_model import LogisticRegression\n",
    "\n",
    "# word2vec\n",
    "from gensim.models import Word2Vec, KeyedVectors, FastText\n",
    "from gensim.models.phrases import Phrases, Phraser\n",
    "from sklearn.model_selection import train_test_split\n",
    "import logging\n",
    "\n",
    "logging.basicConfig(format='%(asctime)s : %(levelname)s : %(message)s', level=logging.INFO)\n",
    "logger = logging.getLogger(__name__)"
   ]
  },
  {
   "cell_type": "markdown",
   "metadata": {
    "colab_type": "text",
    "id": "tZgN06q4QPi3"
   },
   "source": [
    "Utilizando el dataset adjunto con la tarea:"
   ]
  },
  {
   "cell_type": "code",
   "execution_count": 2,
   "metadata": {
    "colab": {
     "base_uri": "https://localhost:8080/",
     "height": 340
    },
    "colab_type": "code",
    "id": "eY3kmg4onnsu",
    "outputId": "b91c912e-4a93-46cf-f3cc-67e605f78d65"
   },
   "outputs": [
    {
     "name": "stdout",
     "output_type": "stream",
     "text": [
      "(131853, 2)\n"
     ]
    },
    {
     "data": {
      "text/html": [
       "<div>\n",
       "<style scoped>\n",
       "    .dataframe tbody tr th:only-of-type {\n",
       "        vertical-align: middle;\n",
       "    }\n",
       "\n",
       "    .dataframe tbody tr th {\n",
       "        vertical-align: top;\n",
       "    }\n",
       "\n",
       "    .dataframe thead th {\n",
       "        text-align: right;\n",
       "    }\n",
       "</style>\n",
       "<table border=\"1\" class=\"dataframe\">\n",
       "  <thead>\n",
       "    <tr style=\"text-align: right;\">\n",
       "      <th></th>\n",
       "      <th>raw_character_text</th>\n",
       "      <th>spoken_words</th>\n",
       "    </tr>\n",
       "  </thead>\n",
       "  <tbody>\n",
       "    <tr>\n",
       "      <th>0</th>\n",
       "      <td>Miss Hoover</td>\n",
       "      <td>No, actually, it was a little of both. Sometim...</td>\n",
       "    </tr>\n",
       "    <tr>\n",
       "      <th>1</th>\n",
       "      <td>Lisa Simpson</td>\n",
       "      <td>Where's Mr. Bergstrom?</td>\n",
       "    </tr>\n",
       "    <tr>\n",
       "      <th>2</th>\n",
       "      <td>Miss Hoover</td>\n",
       "      <td>I don't know. Although I'd sure like to talk t...</td>\n",
       "    </tr>\n",
       "    <tr>\n",
       "      <th>3</th>\n",
       "      <td>Lisa Simpson</td>\n",
       "      <td>That life is worth living.</td>\n",
       "    </tr>\n",
       "    <tr>\n",
       "      <th>4</th>\n",
       "      <td>Edna Krabappel-Flanders</td>\n",
       "      <td>The polls will be open from now until the end ...</td>\n",
       "    </tr>\n",
       "  </tbody>\n",
       "</table>\n",
       "</div>"
      ],
      "text/plain": [
       "        raw_character_text                                       spoken_words\n",
       "0              Miss Hoover  No, actually, it was a little of both. Sometim...\n",
       "1             Lisa Simpson                             Where's Mr. Bergstrom?\n",
       "2              Miss Hoover  I don't know. Although I'd sure like to talk t...\n",
       "3             Lisa Simpson                         That life is worth living.\n",
       "4  Edna Krabappel-Flanders  The polls will be open from now until the end ..."
      ]
     },
     "execution_count": 2,
     "metadata": {},
     "output_type": "execute_result"
    }
   ],
   "source": [
    "data_file = \"dialogue-lines-of-the-simpsons.zip\"\n",
    "df = pd.read_csv(data_file)\n",
    "stopwords = pd.read_csv(\n",
    "    'https://raw.githubusercontent.com/Alir3z4/stop-words/master/english.txt'\n",
    ").values\n",
    "stopwords = Counter(stopwords.flatten().tolist())\n",
    "df = df.dropna().reset_index(drop=True) # Quitar filas vacias\n",
    "print(df.shape)\n",
    "df.head()"
   ]
  },
  {
   "cell_type": "markdown",
   "metadata": {
    "colab_type": "text",
    "id": "VAg5a5bmWk3T"
   },
   "source": [
    "**Pregunta 1**: Ayudándose de los pasos vistos en la auxiliar, entrene los modelos Word2Vec y FastText sobre el dataset anterior. (4 puntos) (Hint, le puede servir explorar un poco los datos)"
   ]
  },
  {
   "cell_type": "markdown",
   "metadata": {
    "colab_type": "text",
    "id": "MWw2fXFRXe5Y"
   },
   "source": [
    "**Respuesta**:"
   ]
  },
  {
   "cell_type": "code",
   "execution_count": 3,
   "metadata": {},
   "outputs": [
    {
     "name": "stderr",
     "output_type": "stream",
     "text": [
      "2020-06-06 06:52:11,679 : INFO : collecting all words and their counts\n",
      "2020-06-06 06:52:11,679 : INFO : PROGRESS: at sentence #0, processed 0 words and 0 word types\n",
      "2020-06-06 06:52:11,704 : INFO : PROGRESS: at sentence #5000, processed 16897 words and 17696 word types\n",
      "2020-06-06 06:52:11,728 : INFO : PROGRESS: at sentence #10000, processed 33320 words and 32774 word types\n",
      "2020-06-06 06:52:11,752 : INFO : PROGRESS: at sentence #15000, processed 49225 words and 46074 word types\n",
      "2020-06-06 06:52:11,784 : INFO : PROGRESS: at sentence #20000, processed 67371 words and 61074 word types\n",
      "2020-06-06 06:52:11,814 : INFO : PROGRESS: at sentence #25000, processed 85568 words and 75938 word types\n",
      "2020-06-06 06:52:11,852 : INFO : PROGRESS: at sentence #30000, processed 104569 words and 91367 word types\n",
      "2020-06-06 06:52:11,883 : INFO : PROGRESS: at sentence #35000, processed 122041 words and 104739 word types\n",
      "2020-06-06 06:52:11,909 : INFO : PROGRESS: at sentence #40000, processed 138266 words and 116598 word types\n",
      "2020-06-06 06:52:11,940 : INFO : PROGRESS: at sentence #45000, processed 154513 words and 128541 word types\n",
      "2020-06-06 06:52:11,972 : INFO : PROGRESS: at sentence #50000, processed 170239 words and 140055 word types\n",
      "2020-06-06 06:52:12,001 : INFO : PROGRESS: at sentence #55000, processed 185556 words and 150956 word types\n",
      "2020-06-06 06:52:12,026 : INFO : PROGRESS: at sentence #60000, processed 200105 words and 160956 word types\n",
      "2020-06-06 06:52:12,054 : INFO : PROGRESS: at sentence #65000, processed 215762 words and 171680 word types\n",
      "2020-06-06 06:52:12,095 : INFO : PROGRESS: at sentence #70000, processed 233512 words and 184773 word types\n",
      "2020-06-06 06:52:12,125 : INFO : PROGRESS: at sentence #75000, processed 251146 words and 197413 word types\n",
      "2020-06-06 06:52:12,155 : INFO : PROGRESS: at sentence #80000, processed 268907 words and 209846 word types\n",
      "2020-06-06 06:52:12,190 : INFO : PROGRESS: at sentence #85000, processed 286451 words and 222075 word types\n",
      "2020-06-06 06:52:12,220 : INFO : PROGRESS: at sentence #90000, processed 303348 words and 233815 word types\n",
      "2020-06-06 06:52:12,249 : INFO : PROGRESS: at sentence #95000, processed 320181 words and 245355 word types\n",
      "2020-06-06 06:52:12,279 : INFO : PROGRESS: at sentence #100000, processed 337260 words and 257141 word types\n",
      "2020-06-06 06:52:12,306 : INFO : PROGRESS: at sentence #105000, processed 354342 words and 268926 word types\n",
      "2020-06-06 06:52:12,337 : INFO : PROGRESS: at sentence #110000, processed 371777 words and 281027 word types\n",
      "2020-06-06 06:52:12,368 : INFO : PROGRESS: at sentence #115000, processed 388303 words and 292112 word types\n",
      "2020-06-06 06:52:12,401 : INFO : PROGRESS: at sentence #120000, processed 405287 words and 303526 word types\n",
      "2020-06-06 06:52:12,428 : INFO : PROGRESS: at sentence #125000, processed 421730 words and 314026 word types\n",
      "2020-06-06 06:52:12,457 : INFO : PROGRESS: at sentence #130000, processed 438262 words and 323837 word types\n",
      "2020-06-06 06:52:12,475 : INFO : collected 327493 word types from a corpus of 444264 words (unigram + bigrams) and 131853 sentences\n",
      "2020-06-06 06:52:12,476 : INFO : using 327493 counts as vocab in Phrases<0 vocab, min_count=100, threshold=10.0, max_vocab_size=40000000>\n",
      "2020-06-06 06:52:12,477 : INFO : source_vocab length 327493\n",
      "2020-06-06 06:52:14,557 : INFO : Phraser built with 11 phrasegrams\n"
     ]
    },
    {
     "name": "stdout",
     "output_type": "stream",
     "text": [
      "['gallon', 'chocolate', 'brownie', 'fudge']\n"
     ]
    }
   ],
   "source": [
    "# limpiar puntuaciones y separar por tokens.\n",
    "punctuation = string.punctuation + \"«»“”‘’…—\"\n",
    "def simple_tokenizer(doc, lower=False):\n",
    "    if lower:\n",
    "        tokenized_doc = doc.translate(str.maketrans(\n",
    "            '', '', punctuation)).lower().split()\n",
    "\n",
    "    tokenized_doc = doc.translate(str.maketrans('', '', punctuation)).split()\n",
    "\n",
    "    tokenized_doc = [\n",
    "        token for token in tokenized_doc if token.lower() not in stopwords\n",
    "    ]\n",
    "    return tokenized_doc\n",
    "\n",
    "cleaned_content = [simple_tokenizer(doc) for doc in df.spoken_words]\n",
    "phrases = Phrases(cleaned_content, min_count=100, progress_per=5000)\n",
    "bigram = Phraser(phrases)\n",
    "sentences = bigram[cleaned_content]\n",
    "print(sentences[300])"
   ]
  },
  {
   "cell_type": "code",
   "execution_count": 4,
   "metadata": {},
   "outputs": [
    {
     "name": "stderr",
     "output_type": "stream",
     "text": [
      "2020-06-06 06:52:14,564 : INFO : collecting all words and their counts\n",
      "2020-06-06 06:52:14,565 : INFO : PROGRESS: at sentence #0, processed 0 words, keeping 0 word types\n",
      "2020-06-06 06:52:14,686 : INFO : PROGRESS: at sentence #10000, processed 33138 words, keeping 10665 word types\n",
      "2020-06-06 06:52:14,792 : INFO : PROGRESS: at sentence #20000, processed 66935 words, keeping 17139 word types\n",
      "2020-06-06 06:52:14,905 : INFO : PROGRESS: at sentence #30000, processed 103943 words, keeping 23072 word types\n",
      "2020-06-06 06:52:15,006 : INFO : PROGRESS: at sentence #40000, processed 137471 words, keeping 27257 word types\n",
      "2020-06-06 06:52:15,108 : INFO : PROGRESS: at sentence #50000, processed 169305 words, keeping 31180 word types\n",
      "2020-06-06 06:52:15,205 : INFO : PROGRESS: at sentence #60000, processed 199034 words, keeping 34584 word types\n",
      "2020-06-06 06:52:15,311 : INFO : PROGRESS: at sentence #70000, processed 232290 words, keeping 38239 word types\n",
      "2020-06-06 06:52:15,431 : INFO : PROGRESS: at sentence #80000, processed 267551 words, keeping 41818 word types\n",
      "2020-06-06 06:52:15,546 : INFO : PROGRESS: at sentence #90000, processed 301884 words, keeping 45072 word types\n",
      "2020-06-06 06:52:15,660 : INFO : PROGRESS: at sentence #100000, processed 335694 words, keeping 48066 word types\n",
      "2020-06-06 06:52:15,780 : INFO : PROGRESS: at sentence #110000, processed 370099 words, keeping 51338 word types\n",
      "2020-06-06 06:52:15,900 : INFO : PROGRESS: at sentence #120000, processed 403504 words, keeping 54166 word types\n",
      "2020-06-06 06:52:16,011 : INFO : PROGRESS: at sentence #130000, processed 436305 words, keeping 56287 word types\n",
      "2020-06-06 06:52:16,029 : INFO : collected 56639 word types from a corpus of 442276 raw words and 131853 sentences\n",
      "2020-06-06 06:52:16,030 : INFO : Loading a fresh vocabulary\n",
      "2020-06-06 06:52:16,152 : INFO : effective_min_count=5 retains 11994 unique words (21% of original 56639, drops 44645)\n",
      "2020-06-06 06:52:16,153 : INFO : effective_min_count=5 leaves 372840 word corpus (84% of original 442276, drops 69436)\n",
      "2020-06-06 06:52:16,188 : INFO : deleting the raw counts dictionary of 56639 items\n",
      "2020-06-06 06:52:16,189 : INFO : sample=0.001 downsamples 20 most-common words\n",
      "2020-06-06 06:52:16,190 : INFO : downsampling leaves estimated 358293 word corpus (96.1% of prior 372840)\n",
      "2020-06-06 06:52:16,224 : INFO : estimated required memory for 11994 words and 100 dimensions: 15592200 bytes\n",
      "2020-06-06 06:52:16,225 : INFO : resetting layer weights\n",
      "2020-06-06 06:52:18,235 : INFO : training model with 3 workers on 11994 vocabulary and 100 features, using sg=0 hs=0 sample=0.001 negative=5 window=5\n",
      "2020-06-06 06:52:19,257 : INFO : EPOCH 1 - PROGRESS: at 61.19% examples, 215397 words/s, in_qsize 0, out_qsize 0\n",
      "2020-06-06 06:52:20,071 : INFO : worker thread finished; awaiting finish of 2 more threads\n",
      "2020-06-06 06:52:20,074 : INFO : worker thread finished; awaiting finish of 1 more threads\n",
      "2020-06-06 06:52:20,083 : INFO : worker thread finished; awaiting finish of 0 more threads\n",
      "2020-06-06 06:52:20,084 : INFO : EPOCH - 1 : training on 442276 raw words (358264 effective words) took 1.8s, 194507 effective words/s\n",
      "2020-06-06 06:52:21,103 : INFO : EPOCH 2 - PROGRESS: at 54.84% examples, 192060 words/s, in_qsize 1, out_qsize 0\n",
      "2020-06-06 06:52:21,794 : INFO : worker thread finished; awaiting finish of 2 more threads\n",
      "2020-06-06 06:52:21,799 : INFO : worker thread finished; awaiting finish of 1 more threads\n",
      "2020-06-06 06:52:21,808 : INFO : worker thread finished; awaiting finish of 0 more threads\n",
      "2020-06-06 06:52:21,808 : INFO : EPOCH - 2 : training on 442276 raw words (358293 effective words) took 1.7s, 208572 effective words/s\n",
      "2020-06-06 06:52:22,820 : INFO : EPOCH 3 - PROGRESS: at 59.03% examples, 209487 words/s, in_qsize 0, out_qsize 0\n",
      "2020-06-06 06:52:23,595 : INFO : worker thread finished; awaiting finish of 2 more threads\n",
      "2020-06-06 06:52:23,598 : INFO : worker thread finished; awaiting finish of 1 more threads\n",
      "2020-06-06 06:52:23,606 : INFO : worker thread finished; awaiting finish of 0 more threads\n",
      "2020-06-06 06:52:23,607 : INFO : EPOCH - 3 : training on 442276 raw words (358251 effective words) took 1.8s, 199910 effective words/s\n",
      "2020-06-06 06:52:24,635 : INFO : EPOCH 4 - PROGRESS: at 56.90% examples, 198170 words/s, in_qsize 1, out_qsize 0\n",
      "2020-06-06 06:52:25,355 : INFO : worker thread finished; awaiting finish of 2 more threads\n",
      "2020-06-06 06:52:25,359 : INFO : worker thread finished; awaiting finish of 1 more threads\n",
      "2020-06-06 06:52:25,373 : INFO : worker thread finished; awaiting finish of 0 more threads\n",
      "2020-06-06 06:52:25,374 : INFO : EPOCH - 4 : training on 442276 raw words (358177 effective words) took 1.8s, 203400 effective words/s\n",
      "2020-06-06 06:52:26,411 : INFO : EPOCH 5 - PROGRESS: at 63.32% examples, 220286 words/s, in_qsize 0, out_qsize 0\n",
      "2020-06-06 06:52:27,038 : INFO : worker thread finished; awaiting finish of 2 more threads\n",
      "2020-06-06 06:52:27,041 : INFO : worker thread finished; awaiting finish of 1 more threads\n",
      "2020-06-06 06:52:27,050 : INFO : worker thread finished; awaiting finish of 0 more threads\n",
      "2020-06-06 06:52:27,051 : INFO : EPOCH - 5 : training on 442276 raw words (358297 effective words) took 1.7s, 214628 effective words/s\n",
      "2020-06-06 06:52:28,072 : INFO : EPOCH 6 - PROGRESS: at 59.03% examples, 207941 words/s, in_qsize 0, out_qsize 0\n",
      "2020-06-06 06:52:28,670 : INFO : worker thread finished; awaiting finish of 2 more threads\n",
      "2020-06-06 06:52:28,673 : INFO : worker thread finished; awaiting finish of 1 more threads\n",
      "2020-06-06 06:52:28,682 : INFO : worker thread finished; awaiting finish of 0 more threads\n",
      "2020-06-06 06:52:28,683 : INFO : EPOCH - 6 : training on 442276 raw words (358137 effective words) took 1.6s, 220623 effective words/s\n",
      "2020-06-06 06:52:29,695 : INFO : EPOCH 7 - PROGRESS: at 54.84% examples, 193557 words/s, in_qsize 0, out_qsize 0\n",
      "2020-06-06 06:52:30,387 : INFO : worker thread finished; awaiting finish of 2 more threads\n",
      "2020-06-06 06:52:30,393 : INFO : worker thread finished; awaiting finish of 1 more threads\n",
      "2020-06-06 06:52:30,402 : INFO : worker thread finished; awaiting finish of 0 more threads\n",
      "2020-06-06 06:52:30,403 : INFO : EPOCH - 7 : training on 442276 raw words (358209 effective words) took 1.7s, 209160 effective words/s\n",
      "2020-06-06 06:52:31,432 : INFO : EPOCH 8 - PROGRESS: at 59.03% examples, 205918 words/s, in_qsize 0, out_qsize 0\n",
      "2020-06-06 06:52:32,126 : INFO : worker thread finished; awaiting finish of 2 more threads\n",
      "2020-06-06 06:52:32,129 : INFO : worker thread finished; awaiting finish of 1 more threads\n",
      "2020-06-06 06:52:32,138 : INFO : worker thread finished; awaiting finish of 0 more threads\n",
      "2020-06-06 06:52:32,139 : INFO : EPOCH - 8 : training on 442276 raw words (358271 effective words) took 1.7s, 207133 effective words/s\n",
      "2020-06-06 06:52:33,230 : INFO : EPOCH 9 - PROGRESS: at 65.55% examples, 216987 words/s, in_qsize 0, out_qsize 0\n",
      "2020-06-06 06:52:33,754 : INFO : worker thread finished; awaiting finish of 2 more threads\n",
      "2020-06-06 06:52:33,758 : INFO : worker thread finished; awaiting finish of 1 more threads\n",
      "2020-06-06 06:52:33,766 : INFO : worker thread finished; awaiting finish of 0 more threads\n",
      "2020-06-06 06:52:33,768 : INFO : EPOCH - 9 : training on 442276 raw words (358268 effective words) took 1.6s, 221169 effective words/s\n",
      "2020-06-06 06:52:34,791 : INFO : EPOCH 10 - PROGRESS: at 59.03% examples, 207062 words/s, in_qsize 0, out_qsize 0\n",
      "2020-06-06 06:52:35,425 : INFO : worker thread finished; awaiting finish of 2 more threads\n",
      "2020-06-06 06:52:35,430 : INFO : worker thread finished; awaiting finish of 1 more threads\n",
      "2020-06-06 06:52:35,439 : INFO : worker thread finished; awaiting finish of 0 more threads\n",
      "2020-06-06 06:52:35,440 : INFO : EPOCH - 10 : training on 442276 raw words (358301 effective words) took 1.7s, 215165 effective words/s\n",
      "2020-06-06 06:52:36,459 : INFO : EPOCH 11 - PROGRESS: at 56.90% examples, 200294 words/s, in_qsize 1, out_qsize 0\n",
      "2020-06-06 06:52:37,094 : INFO : worker thread finished; awaiting finish of 2 more threads\n",
      "2020-06-06 06:52:37,097 : INFO : worker thread finished; awaiting finish of 1 more threads\n",
      "2020-06-06 06:52:37,104 : INFO : worker thread finished; awaiting finish of 0 more threads\n"
     ]
    },
    {
     "name": "stderr",
     "output_type": "stream",
     "text": [
      "2020-06-06 06:52:37,105 : INFO : EPOCH - 11 : training on 442276 raw words (358247 effective words) took 1.7s, 216115 effective words/s\n",
      "2020-06-06 06:52:38,139 : INFO : EPOCH 12 - PROGRESS: at 56.90% examples, 197072 words/s, in_qsize 0, out_qsize 0\n",
      "2020-06-06 06:52:38,865 : INFO : worker thread finished; awaiting finish of 2 more threads\n",
      "2020-06-06 06:52:38,869 : INFO : worker thread finished; awaiting finish of 1 more threads\n",
      "2020-06-06 06:52:38,878 : INFO : worker thread finished; awaiting finish of 0 more threads\n",
      "2020-06-06 06:52:38,879 : INFO : EPOCH - 12 : training on 442276 raw words (358086 effective words) took 1.8s, 202657 effective words/s\n",
      "2020-06-06 06:52:39,923 : INFO : EPOCH 13 - PROGRESS: at 65.55% examples, 226426 words/s, in_qsize 0, out_qsize 0\n",
      "2020-06-06 06:52:40,499 : INFO : worker thread finished; awaiting finish of 2 more threads\n",
      "2020-06-06 06:52:40,506 : INFO : worker thread finished; awaiting finish of 1 more threads\n",
      "2020-06-06 06:52:40,514 : INFO : worker thread finished; awaiting finish of 0 more threads\n",
      "2020-06-06 06:52:40,515 : INFO : EPOCH - 13 : training on 442276 raw words (358220 effective words) took 1.6s, 219908 effective words/s\n",
      "2020-06-06 06:52:41,526 : INFO : EPOCH 14 - PROGRESS: at 54.84% examples, 193788 words/s, in_qsize 1, out_qsize 0\n",
      "2020-06-06 06:52:42,201 : INFO : worker thread finished; awaiting finish of 2 more threads\n",
      "2020-06-06 06:52:42,206 : INFO : worker thread finished; awaiting finish of 1 more threads\n",
      "2020-06-06 06:52:42,217 : INFO : worker thread finished; awaiting finish of 0 more threads\n",
      "2020-06-06 06:52:42,217 : INFO : EPOCH - 14 : training on 442276 raw words (358270 effective words) took 1.7s, 211386 effective words/s\n",
      "2020-06-06 06:52:43,244 : INFO : EPOCH 15 - PROGRESS: at 59.03% examples, 206626 words/s, in_qsize 0, out_qsize 0\n",
      "2020-06-06 06:52:43,858 : INFO : worker thread finished; awaiting finish of 2 more threads\n",
      "2020-06-06 06:52:43,863 : INFO : worker thread finished; awaiting finish of 1 more threads\n",
      "2020-06-06 06:52:43,872 : INFO : worker thread finished; awaiting finish of 0 more threads\n",
      "2020-06-06 06:52:43,872 : INFO : EPOCH - 15 : training on 442276 raw words (358388 effective words) took 1.6s, 217468 effective words/s\n",
      "2020-06-06 06:52:43,873 : INFO : training on a 6634140 raw words (5373679 effective words) took 25.6s, 209605 effective words/s\n",
      "2020-06-06 06:52:43,874 : INFO : precomputing L2-norms of word weight vectors\n"
     ]
    }
   ],
   "source": [
    "w2v_model = Word2Vec()\n",
    "w2v_model.build_vocab(sentences)\n",
    "w2v_model.train(sentences, total_examples=w2v_model.corpus_count, epochs=15)\n",
    "w2v_model.init_sims(replace=True)"
   ]
  },
  {
   "cell_type": "code",
   "execution_count": 5,
   "metadata": {},
   "outputs": [
    {
     "name": "stderr",
     "output_type": "stream",
     "text": [
      "2020-06-06 06:52:43,884 : INFO : resetting layer weights\n",
      "2020-06-06 06:52:47,686 : INFO : collecting all words and their counts\n",
      "2020-06-06 06:52:47,686 : INFO : PROGRESS: at sentence #0, processed 0 words, keeping 0 word types\n",
      "2020-06-06 06:52:47,801 : INFO : PROGRESS: at sentence #10000, processed 33138 words, keeping 10665 word types\n",
      "2020-06-06 06:52:47,904 : INFO : PROGRESS: at sentence #20000, processed 66935 words, keeping 17139 word types\n",
      "2020-06-06 06:52:48,013 : INFO : PROGRESS: at sentence #30000, processed 103943 words, keeping 23072 word types\n",
      "2020-06-06 06:52:48,117 : INFO : PROGRESS: at sentence #40000, processed 137471 words, keeping 27257 word types\n",
      "2020-06-06 06:52:48,217 : INFO : PROGRESS: at sentence #50000, processed 169305 words, keeping 31180 word types\n",
      "2020-06-06 06:52:48,315 : INFO : PROGRESS: at sentence #60000, processed 199034 words, keeping 34584 word types\n",
      "2020-06-06 06:52:48,418 : INFO : PROGRESS: at sentence #70000, processed 232290 words, keeping 38239 word types\n",
      "2020-06-06 06:52:48,527 : INFO : PROGRESS: at sentence #80000, processed 267551 words, keeping 41818 word types\n",
      "2020-06-06 06:52:48,636 : INFO : PROGRESS: at sentence #90000, processed 301884 words, keeping 45072 word types\n",
      "2020-06-06 06:52:48,749 : INFO : PROGRESS: at sentence #100000, processed 335694 words, keeping 48066 word types\n",
      "2020-06-06 06:52:48,870 : INFO : PROGRESS: at sentence #110000, processed 370099 words, keeping 51338 word types\n",
      "2020-06-06 06:52:48,994 : INFO : PROGRESS: at sentence #120000, processed 403504 words, keeping 54166 word types\n",
      "2020-06-06 06:52:49,112 : INFO : PROGRESS: at sentence #130000, processed 436305 words, keeping 56287 word types\n",
      "2020-06-06 06:52:49,132 : INFO : collected 56639 word types from a corpus of 442276 raw words and 131853 sentences\n",
      "2020-06-06 06:52:49,133 : INFO : Loading a fresh vocabulary\n",
      "2020-06-06 06:52:49,237 : INFO : effective_min_count=5 retains 11994 unique words (21% of original 56639, drops 44645)\n",
      "2020-06-06 06:52:49,238 : INFO : effective_min_count=5 leaves 372840 word corpus (84% of original 442276, drops 69436)\n",
      "2020-06-06 06:52:49,285 : INFO : deleting the raw counts dictionary of 56639 items\n",
      "2020-06-06 06:52:49,286 : INFO : sample=0.001 downsamples 20 most-common words\n",
      "2020-06-06 06:52:49,287 : INFO : downsampling leaves estimated 358293 word corpus (96.1% of prior 372840)\n",
      "2020-06-06 06:52:49,418 : INFO : estimated required memory for 11994 words, 81042 buckets and 100 dimensions: 50421784 bytes\n",
      "2020-06-06 06:52:49,421 : INFO : resetting layer weights\n",
      "2020-06-06 06:52:53,336 : INFO : training model with 3 workers on 11994 vocabulary and 100 features, using sg=0 hs=0 sample=0.001 negative=5 window=5\n",
      "2020-06-06 06:52:54,367 : INFO : EPOCH 1 - PROGRESS: at 52.58% examples, 182031 words/s, in_qsize 0, out_qsize 0\n",
      "2020-06-06 06:52:55,316 : INFO : worker thread finished; awaiting finish of 2 more threads\n",
      "2020-06-06 06:52:55,323 : INFO : worker thread finished; awaiting finish of 1 more threads\n",
      "2020-06-06 06:52:55,369 : INFO : EPOCH 1 - PROGRESS: at 100.00% examples, 176822 words/s, in_qsize 0, out_qsize 1\n",
      "2020-06-06 06:52:55,370 : INFO : worker thread finished; awaiting finish of 0 more threads\n",
      "2020-06-06 06:52:55,371 : INFO : EPOCH - 1 : training on 442276 raw words (358267 effective words) took 2.0s, 176671 effective words/s\n",
      "2020-06-06 06:52:56,443 : INFO : EPOCH 2 - PROGRESS: at 48.20% examples, 159947 words/s, in_qsize 0, out_qsize 0\n",
      "2020-06-06 06:52:57,401 : INFO : worker thread finished; awaiting finish of 2 more threads\n",
      "2020-06-06 06:52:57,416 : INFO : worker thread finished; awaiting finish of 1 more threads\n",
      "2020-06-06 06:52:57,459 : INFO : EPOCH 2 - PROGRESS: at 100.00% examples, 172298 words/s, in_qsize 0, out_qsize 1\n",
      "2020-06-06 06:52:57,460 : INFO : worker thread finished; awaiting finish of 0 more threads\n",
      "2020-06-06 06:52:57,461 : INFO : EPOCH - 2 : training on 442276 raw words (358543 effective words) took 2.1s, 172121 effective words/s\n",
      "2020-06-06 06:52:58,495 : INFO : EPOCH 3 - PROGRESS: at 45.75% examples, 158190 words/s, in_qsize 0, out_qsize 0\n",
      "2020-06-06 06:52:59,520 : INFO : EPOCH 3 - PROGRESS: at 94.81% examples, 165835 words/s, in_qsize 0, out_qsize 0\n",
      "2020-06-06 06:52:59,564 : INFO : worker thread finished; awaiting finish of 2 more threads\n",
      "2020-06-06 06:52:59,571 : INFO : worker thread finished; awaiting finish of 1 more threads\n",
      "2020-06-06 06:52:59,609 : INFO : worker thread finished; awaiting finish of 0 more threads\n",
      "2020-06-06 06:52:59,610 : INFO : EPOCH - 3 : training on 442276 raw words (358379 effective words) took 2.1s, 167482 effective words/s\n",
      "2020-06-06 06:53:00,630 : INFO : EPOCH 4 - PROGRESS: at 45.75% examples, 160068 words/s, in_qsize 0, out_qsize 0\n",
      "2020-06-06 06:53:01,665 : INFO : EPOCH 4 - PROGRESS: at 92.52% examples, 161935 words/s, in_qsize 0, out_qsize 0\n",
      "2020-06-06 06:53:01,748 : INFO : worker thread finished; awaiting finish of 2 more threads\n",
      "2020-06-06 06:53:01,755 : INFO : worker thread finished; awaiting finish of 1 more threads\n",
      "2020-06-06 06:53:01,803 : INFO : worker thread finished; awaiting finish of 0 more threads\n",
      "2020-06-06 06:53:01,803 : INFO : EPOCH - 4 : training on 442276 raw words (358434 effective words) took 2.2s, 163880 effective words/s\n",
      "2020-06-06 06:53:02,826 : INFO : EPOCH 5 - PROGRESS: at 50.44% examples, 175583 words/s, in_qsize 0, out_qsize 0\n",
      "2020-06-06 06:53:03,852 : INFO : EPOCH 5 - PROGRESS: at 97.11% examples, 170413 words/s, in_qsize 2, out_qsize 1\n",
      "2020-06-06 06:53:03,853 : INFO : worker thread finished; awaiting finish of 2 more threads\n",
      "2020-06-06 06:53:03,853 : INFO : worker thread finished; awaiting finish of 1 more threads\n",
      "2020-06-06 06:53:03,894 : INFO : worker thread finished; awaiting finish of 0 more threads\n",
      "2020-06-06 06:53:03,895 : INFO : EPOCH - 5 : training on 442276 raw words (358198 effective words) took 2.1s, 171804 effective words/s\n",
      "2020-06-06 06:53:04,904 : INFO : EPOCH 6 - PROGRESS: at 43.12% examples, 153717 words/s, in_qsize 0, out_qsize 0\n",
      "2020-06-06 06:53:05,933 : INFO : EPOCH 6 - PROGRESS: at 94.81% examples, 167310 words/s, in_qsize 0, out_qsize 0\n",
      "2020-06-06 06:53:05,966 : INFO : worker thread finished; awaiting finish of 2 more threads\n",
      "2020-06-06 06:53:05,986 : INFO : worker thread finished; awaiting finish of 1 more threads\n",
      "2020-06-06 06:53:06,032 : INFO : worker thread finished; awaiting finish of 0 more threads\n",
      "2020-06-06 06:53:06,033 : INFO : EPOCH - 6 : training on 442276 raw words (358286 effective words) took 2.1s, 168096 effective words/s\n",
      "2020-06-06 06:53:07,084 : INFO : EPOCH 7 - PROGRESS: at 40.55% examples, 139946 words/s, in_qsize 0, out_qsize 0\n",
      "2020-06-06 06:53:08,135 : INFO : EPOCH 7 - PROGRESS: at 87.98% examples, 150659 words/s, in_qsize 0, out_qsize 0\n",
      "2020-06-06 06:53:08,324 : INFO : worker thread finished; awaiting finish of 2 more threads\n",
      "2020-06-06 06:53:08,330 : INFO : worker thread finished; awaiting finish of 1 more threads\n",
      "2020-06-06 06:53:08,383 : INFO : worker thread finished; awaiting finish of 0 more threads\n",
      "2020-06-06 06:53:08,383 : INFO : EPOCH - 7 : training on 442276 raw words (358277 effective words) took 2.3s, 152887 effective words/s\n",
      "2020-06-06 06:53:09,432 : INFO : EPOCH 8 - PROGRESS: at 45.75% examples, 155678 words/s, in_qsize 0, out_qsize 0\n",
      "2020-06-06 06:53:10,470 : INFO : EPOCH 8 - PROGRESS: at 92.52% examples, 159461 words/s, in_qsize 0, out_qsize 0\n",
      "2020-06-06 06:53:10,559 : INFO : worker thread finished; awaiting finish of 2 more threads\n",
      "2020-06-06 06:53:10,581 : INFO : worker thread finished; awaiting finish of 1 more threads\n",
      "2020-06-06 06:53:10,604 : INFO : worker thread finished; awaiting finish of 0 more threads\n",
      "2020-06-06 06:53:10,605 : INFO : EPOCH - 8 : training on 442276 raw words (358328 effective words) took 2.2s, 161807 effective words/s\n",
      "2020-06-06 06:53:11,642 : INFO : EPOCH 9 - PROGRESS: at 50.44% examples, 173292 words/s, in_qsize 0, out_qsize 0\n",
      "2020-06-06 06:53:12,648 : INFO : EPOCH 9 - PROGRESS: at 95.35% examples, 167895 words/s, in_qsize 2, out_qsize 1\n",
      "2020-06-06 06:53:12,649 : INFO : worker thread finished; awaiting finish of 2 more threads\n",
      "2020-06-06 06:53:12,652 : INFO : worker thread finished; awaiting finish of 1 more threads\n",
      "2020-06-06 06:53:12,697 : INFO : worker thread finished; awaiting finish of 0 more threads\n"
     ]
    },
    {
     "name": "stderr",
     "output_type": "stream",
     "text": [
      "2020-06-06 06:53:12,698 : INFO : EPOCH - 9 : training on 442276 raw words (358343 effective words) took 2.1s, 171763 effective words/s\n",
      "2020-06-06 06:53:13,715 : INFO : EPOCH 10 - PROGRESS: at 43.12% examples, 152643 words/s, in_qsize 0, out_qsize 0\n",
      "2020-06-06 06:53:14,749 : INFO : EPOCH 10 - PROGRESS: at 94.81% examples, 166319 words/s, in_qsize 0, out_qsize 0\n",
      "2020-06-06 06:53:14,793 : INFO : worker thread finished; awaiting finish of 2 more threads\n",
      "2020-06-06 06:53:14,794 : INFO : worker thread finished; awaiting finish of 1 more threads\n",
      "2020-06-06 06:53:14,832 : INFO : worker thread finished; awaiting finish of 0 more threads\n",
      "2020-06-06 06:53:14,833 : INFO : EPOCH - 10 : training on 442276 raw words (358315 effective words) took 2.1s, 168389 effective words/s\n",
      "2020-06-06 06:53:15,843 : INFO : EPOCH 11 - PROGRESS: at 43.12% examples, 153492 words/s, in_qsize 0, out_qsize 0\n",
      "2020-06-06 06:53:16,877 : INFO : EPOCH 11 - PROGRESS: at 94.81% examples, 166827 words/s, in_qsize 0, out_qsize 0\n",
      "2020-06-06 06:53:16,913 : INFO : worker thread finished; awaiting finish of 2 more threads\n",
      "2020-06-06 06:53:16,914 : INFO : worker thread finished; awaiting finish of 1 more threads\n",
      "2020-06-06 06:53:16,958 : INFO : worker thread finished; awaiting finish of 0 more threads\n",
      "2020-06-06 06:53:16,959 : INFO : EPOCH - 11 : training on 442276 raw words (358191 effective words) took 2.1s, 168980 effective words/s\n",
      "2020-06-06 06:53:17,973 : INFO : EPOCH 12 - PROGRESS: at 38.07% examples, 136998 words/s, in_qsize 0, out_qsize 0\n",
      "2020-06-06 06:53:19,014 : INFO : EPOCH 12 - PROGRESS: at 81.17% examples, 142246 words/s, in_qsize 0, out_qsize 0\n",
      "2020-06-06 06:53:19,391 : INFO : worker thread finished; awaiting finish of 2 more threads\n",
      "2020-06-06 06:53:19,414 : INFO : worker thread finished; awaiting finish of 1 more threads\n",
      "2020-06-06 06:53:19,458 : INFO : worker thread finished; awaiting finish of 0 more threads\n",
      "2020-06-06 06:53:19,459 : INFO : EPOCH - 12 : training on 442276 raw words (358262 effective words) took 2.5s, 143700 effective words/s\n",
      "2020-06-06 06:53:20,474 : INFO : EPOCH 13 - PROGRESS: at 48.20% examples, 168885 words/s, in_qsize 0, out_qsize 0\n",
      "2020-06-06 06:53:21,483 : INFO : EPOCH 13 - PROGRESS: at 94.81% examples, 168521 words/s, in_qsize 0, out_qsize 0\n",
      "2020-06-06 06:53:21,521 : INFO : worker thread finished; awaiting finish of 2 more threads\n",
      "2020-06-06 06:53:21,524 : INFO : worker thread finished; awaiting finish of 1 more threads\n",
      "2020-06-06 06:53:21,569 : INFO : worker thread finished; awaiting finish of 0 more threads\n",
      "2020-06-06 06:53:21,569 : INFO : EPOCH - 13 : training on 442276 raw words (358310 effective words) took 2.1s, 170333 effective words/s\n",
      "2020-06-06 06:53:22,596 : INFO : EPOCH 14 - PROGRESS: at 43.12% examples, 151092 words/s, in_qsize 0, out_qsize 0\n",
      "2020-06-06 06:53:23,606 : INFO : EPOCH 14 - PROGRESS: at 90.21% examples, 159437 words/s, in_qsize 0, out_qsize 0\n",
      "2020-06-06 06:53:23,752 : INFO : worker thread finished; awaiting finish of 2 more threads\n",
      "2020-06-06 06:53:23,759 : INFO : worker thread finished; awaiting finish of 1 more threads\n",
      "2020-06-06 06:53:23,806 : INFO : worker thread finished; awaiting finish of 0 more threads\n",
      "2020-06-06 06:53:23,807 : INFO : EPOCH - 14 : training on 442276 raw words (358301 effective words) took 2.2s, 160615 effective words/s\n",
      "2020-06-06 06:53:24,830 : INFO : EPOCH 15 - PROGRESS: at 40.55% examples, 143680 words/s, in_qsize 0, out_qsize 0\n",
      "2020-06-06 06:53:25,843 : INFO : EPOCH 15 - PROGRESS: at 92.52% examples, 163479 words/s, in_qsize 0, out_qsize 0\n",
      "2020-06-06 06:53:25,954 : INFO : worker thread finished; awaiting finish of 2 more threads\n",
      "2020-06-06 06:53:25,959 : INFO : worker thread finished; awaiting finish of 1 more threads\n",
      "2020-06-06 06:53:25,992 : INFO : worker thread finished; awaiting finish of 0 more threads\n",
      "2020-06-06 06:53:25,993 : INFO : EPOCH - 15 : training on 442276 raw words (358375 effective words) took 2.2s, 164447 effective words/s\n",
      "2020-06-06 06:53:25,994 : INFO : training on a 6634140 raw words (5374809 effective words) took 32.7s, 164585 effective words/s\n",
      "2020-06-06 06:53:26,355 : INFO : precomputing L2-norms of word weight vectors\n",
      "2020-06-06 06:53:26,359 : INFO : precomputing L2-norms of ngram weight vectors\n"
     ]
    }
   ],
   "source": [
    "fastxt_model = FastText()\n",
    "fastxt_model.build_vocab(sentences)\n",
    "fastxt_model.train(sentences, total_examples=fastxt_model.corpus_count, epochs=15)\n",
    "fastxt_model.init_sims(replace=True)"
   ]
  },
  {
   "cell_type": "markdown",
   "metadata": {},
   "source": [
    "**Pregunta 2**: Encuentre las palabras mas similares a las siguientes: Lisa, Bart, Homer, Marge. Cúal es la diferencia entre ambos resultados? Por qué ocurre esto? Intente comparar ahora Liisa en ambos modelos (doble i). Cuando escogería uno vs el otro? (2 puntos)"
   ]
  },
  {
   "cell_type": "code",
   "execution_count": 6,
   "metadata": {},
   "outputs": [
    {
     "name": "stderr",
     "output_type": "stream",
     "text": [
      "2020-06-06 06:53:26,837 : ERROR : Word Liisa not in Word2Vec dictionary\n"
     ]
    },
    {
     "name": "stdout",
     "output_type": "stream",
     "text": [
      "Word2Vec Model\n",
      "'Lisa' most similar words:\n",
      "['Bart', 'teacher', 'Abraham', 'Abe', 'fourth', 'grade', 'Principal_Skinner', 'project', 'Bartholomew', 'Eliza']\n",
      "'Bart' most similar words:\n",
      "['Lisa', 'teacher', 'Abraham', 'Abe', 'brother', 'fourth', 'bully', 'teach', 'kindergarten', 'Principal_Skinner']\n",
      "'Homer' most similar words:\n",
      "['Apu', 'mate', 'honest', 'loser', 'workin', 'drunk', 'secrets', 'customers', 'fellas', 'beers']\n",
      "'Marge' most similar words:\n",
      "['husband', 'Abe', 'Apu', 'wife', 'marriage', 'Homer', 'swear', 'darling', 'sex', 'relationship']\n",
      "\n",
      "FastText Model\n",
      "'Lisa' most similar words:\n",
      "['Lisas', 'Bart', 'Barto', 'Bartholomew', 'Lis', 'BartMan', 'Asa', 'Bartdude', 'Bartron', 'Barts']\n",
      "'Bart' most similar words:\n",
      "['Barto', 'Bartdude', 'BartMan', 'Lisa', 'Barts', 'Bartholomew', 'Lisas', 'Bartron', 'Lis', 'Baryshnikov']\n",
      "'Homer' most similar words:\n",
      "['Homey', 'Homers', 'customer', 'Homework', 'wife', 'Hoju', 'Howm', 'wifi', 'Knockahomer', 'exwife']\n",
      "'Marge' most similar words:\n",
      "['Marges', 'Maarge', 'Maaarge', 'Margaret', 'Sarge', 'husband', 'Margie', 'husbands', 'Marriage', 'Husband']\n",
      "\n",
      "Models comparisson under word 'Liisa'\n",
      "FastText most similar words:\n",
      "['Lisa', 'Bart', 'Barto', 'BartMan', 'Bartholomew', 'Lisas', 'Abe', 'Asa', 'Bartron', 'Bartdude']\n"
     ]
    }
   ],
   "source": [
    "characters = ['Lisa', 'Bart', 'Homer', 'Marge']\n",
    "print('Word2Vec Model')\n",
    "for character in characters:\n",
    "    print(\"'{}' most similar words:\\n{}\".format(character, [result[0] for result in w2v_model.wv.most_similar(positive=[character])]))\n",
    "print('\\nFastText Model')\n",
    "for character in characters:\n",
    "    print(\"'{}' most similar words:\\n{}\".format(character, [result[0] for result in fastxt_model.wv.most_similar(positive=[character])]))\n",
    "print(\"\\nModels comparisson under word 'Liisa'\")\n",
    "try:\n",
    "    print(\"Word2Vec most similar words:\\n{}\".format([result[0] for result in w2v_model.wv.most_similar(positive=['Liisa'])]))\n",
    "except:\n",
    "    logger.error('Word {} not in Word2Vec dictionary'.format('Liisa'))\n",
    "try:\n",
    "    print(\"FastText most similar words:\\n{}\".format([result[0] for result in fastxt_model.wv.most_similar(positive=['Liisa'])]))\n",
    "except:\n",
    "    logger.error('Word {} not in FastText dictionary'.format('Liisa'))"
   ]
  },
  {
   "cell_type": "markdown",
   "metadata": {},
   "source": [
    "**Respuesta**:\n",
    "\n",
    "Se aprecia que el modelo $\\texttt{Word2Vec}$ retorna palabras relacionadas con el contexto semántico de las ocurrencias de las mismas de la serie *Los Simpsons*, debido a que el entrenamiento considera una vecindad  de palabras consecutivas de largo fijo para la predicción de una palabra (*Continuous Bag of Words*) o viceversa (*Skip-gram*), permitiendo la representación contextual de una palabra en el texto. De este modo, como ejemplo, se relaciona a *Lisa* con *Bart*, ya que son hermanos y comparten muchas escenas, relacionándo además a cada uno con sus respectivas actividades frecuentes (Ambos-escuela, *Lisa*-jazz, *Bart*-bully) y a *Marge* con palabras relacionadas a la vida marital, ya que dicho personaje representa el conservadurismo femenino cristiano.\n",
    "\n",
    "En cambio, se aprecia que el modelo $\\texttt{FastText}$ retorna palabras sintácticamente relacionadas, debido a que dicho modelo procesa las palabras particionandolas en *n*-gramas, tomando en cuentra la estructura interna de las palabras. De este modo, se relaciona a *Homer* con *Homey*, *Homers*, *Homeworks*, etc. y del mismo modo a *Marge* con *Marges*, *Maarge*, etc., apreciandose el enfoque en relacionar palabras sintácticamente similares, sin dejar de la similitud contextual de las palabras, donde por ejemplo, se sigue relacionando a *Bart* con *Lisa* y sus distintos derivados.\n",
    "\n",
    "Al presentar una palabra nueva como *Liisa*, se aprecia que el modelo $\\texttt{Word2Vec}$ es incapaz de procesarla debido a que esta no se encuentra en el diccionario de palabras sobre el cual el modelo fue entrenado, siendo una clara limitación del mismo, mientras que el modelo $\\texttt{FastText}$ sí es capaz de procesarlo ya que, los *n*-gramas que componen dicha palabra desconocida si son reconocibles por el modelo, al ser entrenado con palabras similares como *Lisa* y sus derivados, retornando palabras muy similares a las obtenidas al utilizar la palabra *Lisa*.\n",
    "\n",
    "Se concluye que ambos modelos difieren en la forma de representación de palabras, obteniendose *embeddings* de distinta naturaleza (semánticos a nivel de palabra para $\\texttt{Word2Vec}$ y enfocados en la sintaxis a nivel de *n*-gramas de palabras para $\\texttt{FastText}$), donde la elección del modelo dependerá del enfoque de la tarea a resolver. Si la tarea a resolver presenta muchas palabras derivadas de palabras presentes en entrenamiento, pero no idénticas,  se preferirá utilizar el modelo $\\texttt{FastText}$ ya que el modelo $\\texttt{Word2Vec}$ presenta la limitación de ser incapaz de procesar palabras distintas a su conjunto de entrenamiento."
   ]
  },
  {
   "cell_type": "markdown",
   "metadata": {},
   "source": [
    "### Parte 4: Aplicar embeddings para clasificar"
   ]
  },
  {
   "cell_type": "markdown",
   "metadata": {},
   "source": [
    "Ahora utilizaremos estos embeddings para clasificar palabras basadas en su polaridad (positivas o negativas). Para esto ocuparemos el lexicón AFINN incluido en la tarea."
   ]
  },
  {
   "cell_type": "code",
   "execution_count": 7,
   "metadata": {},
   "outputs": [
    {
     "data": {
      "text/html": [
       "<div>\n",
       "<style scoped>\n",
       "    .dataframe tbody tr th:only-of-type {\n",
       "        vertical-align: middle;\n",
       "    }\n",
       "\n",
       "    .dataframe tbody tr th {\n",
       "        vertical-align: top;\n",
       "    }\n",
       "\n",
       "    .dataframe thead th {\n",
       "        text-align: right;\n",
       "    }\n",
       "</style>\n",
       "<table border=\"1\" class=\"dataframe\">\n",
       "  <thead>\n",
       "    <tr style=\"text-align: right;\">\n",
       "      <th></th>\n",
       "      <th>0</th>\n",
       "      <th>1</th>\n",
       "    </tr>\n",
       "  </thead>\n",
       "  <tbody>\n",
       "    <tr>\n",
       "      <th>0</th>\n",
       "      <td>tops</td>\n",
       "      <td>1</td>\n",
       "    </tr>\n",
       "    <tr>\n",
       "      <th>1</th>\n",
       "      <td>groan</td>\n",
       "      <td>-1</td>\n",
       "    </tr>\n",
       "    <tr>\n",
       "      <th>2</th>\n",
       "      <td>perfects</td>\n",
       "      <td>1</td>\n",
       "    </tr>\n",
       "    <tr>\n",
       "      <th>3</th>\n",
       "      <td>spammer</td>\n",
       "      <td>-1</td>\n",
       "    </tr>\n",
       "    <tr>\n",
       "      <th>4</th>\n",
       "      <td>saluting</td>\n",
       "      <td>1</td>\n",
       "    </tr>\n",
       "  </tbody>\n",
       "</table>\n",
       "</div>"
      ],
      "text/plain": [
       "          0  1\n",
       "0      tops  1\n",
       "1     groan -1\n",
       "2  perfects  1\n",
       "3   spammer -1\n",
       "4  saluting  1"
      ]
     },
     "execution_count": 7,
     "metadata": {},
     "output_type": "execute_result"
    }
   ],
   "source": [
    "AFINN = 'AFINN_full.csv'\n",
    "df_afinn = pd.read_csv(AFINN, sep='\\t', header=None)\n",
    "df_afinn.head()"
   ]
  },
  {
   "cell_type": "markdown",
   "metadata": {},
   "source": [
    "Hint: Para w2v son esperables KeyErrors, para eso pueden utilizar esta función auxiliar para filtrar las filas en el dataframe que no tienen embeddings (como w2v no tiene token UNK se deben ignorar), para luego aplicar los embeddings en toda la columna."
   ]
  },
  {
   "cell_type": "code",
   "execution_count": 8,
   "metadata": {},
   "outputs": [],
   "source": [
    "def try_apply(model,word):\n",
    "    try:\n",
    "        aux = model[word]\n",
    "        return True\n",
    "    except KeyError:\n",
    "        #logger.error('Word {} not in dictionary'.format(word))\n",
    "        return False"
   ]
  },
  {
   "cell_type": "markdown",
   "metadata": {},
   "source": [
    "**Pregunta 1**: Una vez que tengan un dataframe del estilo [embedding, sentimiento] para ambos modelos, separarlo utilizando la siguiente función, donde X es su columna de embeddings e y es la columna de los valores. (3 puntos)"
   ]
  },
  {
   "cell_type": "markdown",
   "metadata": {},
   "source": [
    "**Respuesta**:"
   ]
  },
  {
   "cell_type": "code",
   "execution_count": 9,
   "metadata": {},
   "outputs": [
    {
     "name": "stderr",
     "output_type": "stream",
     "text": [
      "/home/miguel/anaconda3/lib/python3.7/site-packages/ipykernel_launcher.py:3: DeprecationWarning: Call to deprecated `__getitem__` (Method will be removed in 4.0.0, use self.wv.__getitem__() instead).\n",
      "  This is separate from the ipykernel package so we can avoid doing imports until\n",
      "/home/miguel/anaconda3/lib/python3.7/site-packages/ipykernel_launcher.py:6: DeprecationWarning: Call to deprecated `__getitem__` (Method will be removed in 4.0.0, use self.wv.__getitem__() instead).\n",
      "  \n",
      "/home/miguel/anaconda3/lib/python3.7/site-packages/ipykernel_launcher.py:9: DeprecationWarning: Call to deprecated `__getitem__` (Method will be removed in 4.0.0, use self.wv.__getitem__() instead).\n",
      "  if __name__ == '__main__':\n"
     ]
    },
    {
     "name": "stdout",
     "output_type": "stream",
     "text": [
      "Word2Vec number of embeddings: 1218\n",
      "FastText number of embeddings: 3382\n"
     ]
    }
   ],
   "source": [
    "w2v_emb = []; fastxt_emb = []\n",
    "X_w2v = []; y_w2v = []\n",
    "X_fastxt = []; y_fastxt = []\n",
    "for i in range(len(df_afinn[0])):\n",
    "    if try_apply(w2v_model, df_afinn[0][i]):\n",
    "        X_w2v.append(w2v_model[df_afinn[0][i]])\n",
    "        y_w2v.append(df_afinn[1][i])\n",
    "    if try_apply(fastxt_model, df_afinn[0][i]):\n",
    "        X_fastxt.append(fastxt_model[df_afinn[0][i]])\n",
    "        y_fastxt.append(df_afinn[1][i])\n",
    "print('Word2Vec number of embeddings: {}'.format(len(X_w2v)))\n",
    "print('FastText number of embeddings: {}'.format(len(X_fastxt)))"
   ]
  },
  {
   "cell_type": "code",
   "execution_count": 10,
   "metadata": {},
   "outputs": [],
   "source": [
    "X_w2v_train, X_w2v_test, y_w2v_train, y_w2v_test = train_test_split(X_w2v, y_w2v, random_state=0, test_size=0.1, stratify=y_w2v)\n",
    "X_fastxt_train, X_fastxt_test, y_fastxt_train, y_fastxt_test = train_test_split(X_fastxt, y_fastxt, random_state=0, test_size=0.1, stratify=y_fastxt)"
   ]
  },
  {
   "cell_type": "markdown",
   "metadata": {},
   "source": [
    "**Pregunta 2**: Entrenar una regresión logística (vista en auxiliar) y reportar accuracy, precision, recall, f1 y confusion_matrix para ambos modelos. Por qué se obtienen estos resultados? Cómo los mejorarías? (3 puntos)"
   ]
  },
  {
   "cell_type": "code",
   "execution_count": 11,
   "metadata": {},
   "outputs": [
    {
     "name": "stdout",
     "output_type": "stream",
     "text": [
      "Word2Vec Logistic Regression Performance:\n",
      "Confusion Matrix:\n",
      "[[69  4]\n",
      " [40  9]]\n",
      "Classification Report:\n",
      "              precision    recall  f1-score   support\n",
      "\n",
      "          -1       0.63      0.95      0.76        73\n",
      "           1       0.69      0.18      0.29        49\n",
      "\n",
      "    accuracy                           0.64       122\n",
      "   macro avg       0.66      0.56      0.52       122\n",
      "weighted avg       0.66      0.64      0.57       122\n",
      "\n",
      "Accuracy: 0.639344262295082\n",
      "\n",
      "FastText Logistic Regression Performance:\n",
      "Confusion Matrix:\n",
      "[[214   7]\n",
      " [ 93  25]]\n",
      "Classification Report:\n",
      "              precision    recall  f1-score   support\n",
      "\n",
      "          -1       0.70      0.97      0.81       221\n",
      "           1       0.78      0.21      0.33       118\n",
      "\n",
      "    accuracy                           0.71       339\n",
      "   macro avg       0.74      0.59      0.57       339\n",
      "weighted avg       0.73      0.71      0.64       339\n",
      "\n",
      "Accuracy: 0.7050147492625368\n"
     ]
    }
   ],
   "source": [
    "lr_w2v_clf = LogisticRegression()\n",
    "lr_fastxt_clf = LogisticRegression()\n",
    "lr_w2v_clf.fit(X_w2v_train, y_w2v_train)\n",
    "lr_fastxt_clf.fit(X_fastxt_train, y_fastxt_train)\n",
    "y_w2v_pred = lr_w2v_clf.predict(X_w2v_test)\n",
    "y_fastxt_pred = lr_fastxt_clf.predict(X_fastxt_test)\n",
    "print('Word2Vec Logistic Regression Performance:')\n",
    "print('Confusion Matrix:')\n",
    "print(confusion_matrix(y_w2v_test, y_w2v_pred))\n",
    "print('Classification Report:')\n",
    "print(classification_report(y_w2v_test, y_w2v_pred))\n",
    "print('Accuracy: {}'.format(accuracy_score(y_w2v_test, y_w2v_pred)))\n",
    "print('\\nFastText Logistic Regression Performance:')\n",
    "print('Confusion Matrix:')\n",
    "print(confusion_matrix(y_fastxt_test, y_fastxt_pred))\n",
    "print('Classification Report:')\n",
    "print(classification_report(y_fastxt_test, y_fastxt_pred))\n",
    "print('Accuracy: {}'.format(accuracy_score(y_fastxt_test, y_fastxt_pred)))"
   ]
  },
  {
   "cell_type": "markdown",
   "metadata": {},
   "source": [
    "**Respuesta**:\n",
    "\n",
    "Se aprecia que ambos modelos presentan un alto sesgo de predicción hacia la clase positiva, lo cual puede explicarse por el inherente sesgo del corpus de entrenamiento hacia palabras más negativas (con respecto al conjunto de prueba) debido a que *Los Simpsons* es una serie satírica de crítica social. Se aprecia además que el modelo $\\texttt{FastText}$ presenta un desempeño superior al $\\texttt{Word2Vec}$, lo cual puede explicarse por el superior sesgo presentado por el modelo $\\texttt{Word2Vec}$ al corpus de entrenamiento de *Los Simpsons*, ya que las representaciones embebidas generadas dependen completamente de la relación contextual entre las palabras del mismo, mientas que el modelo $\\texttt{FastText}$ resulta más robusto a dicho sesgo ya que es entrenado por medio de *n*-gramas de las palabras del corpus, los cuales resultan presentan una incidencia superior entre distintos corpus, generando representaciones de mayor generalidad que puedan enfrentar de mejor manera la tarea de clasificación sobre un corpus radicalmente distinto. El bajo desempeño de $\\texttt{Word2Vec}$ se explica también por su incapacidad de procesar palabras no presentes en el conjunto de entrenamiento original, reduciéndo drásticamente la cantidad de datos (*embeddings*) disponibles para el entrenamiento del clasificador.\n",
    "\n",
    "Los resultados podrían mejorarse entrenando los modelos sobre un corpus más rico y diverso, de mayor relación con el conjunto de prueba, además de seleccionar algoritmos de clasificación más sofisticados o incluso un ensamble de los mismos, en conjunto con una busqueda de hiperparámetros óptima (utilizando un conjunto de validación) para los mismos."
   ]
  },
  {
   "cell_type": "markdown",
   "metadata": {},
   "source": [
    "# Bonus: 2 puntos en cualquier pregunta"
   ]
  },
  {
   "cell_type": "markdown",
   "metadata": {},
   "source": [
    "**Pregunta 1**: Replicar la parte anterior utilizando embeddings pre-entrenados en un dataset más grande y obtener mejores resultados. Les puede servir [ésta](https://radimrehurek.com/gensim/downloader.html#module-gensim.downloader) documentacion de gensim (1 punto)."
   ]
  },
  {
   "cell_type": "markdown",
   "metadata": {},
   "source": [
    "**Respuesta**:"
   ]
  },
  {
   "cell_type": "code",
   "execution_count": 12,
   "metadata": {},
   "outputs": [
    {
     "name": "stderr",
     "output_type": "stream",
     "text": [
      "2020-06-06 06:53:27,722 : INFO : collecting all words and their counts\n",
      "2020-06-06 06:53:27,726 : INFO : PROGRESS: at sentence #0, processed 0 words, keeping 0 word types\n",
      "2020-06-06 06:53:33,259 : INFO : collected 253854 word types from a corpus of 17005207 raw words and 1701 sentences\n",
      "2020-06-06 06:53:33,260 : INFO : Loading a fresh vocabulary\n",
      "2020-06-06 06:53:33,439 : INFO : effective_min_count=5 retains 71290 unique words (28% of original 253854, drops 182564)\n",
      "2020-06-06 06:53:33,439 : INFO : effective_min_count=5 leaves 16718844 word corpus (98% of original 17005207, drops 286363)\n",
      "2020-06-06 06:53:33,662 : INFO : deleting the raw counts dictionary of 253854 items\n",
      "2020-06-06 06:53:33,669 : INFO : sample=0.001 downsamples 38 most-common words\n",
      "2020-06-06 06:53:33,669 : INFO : downsampling leaves estimated 12506280 word corpus (74.8% of prior 16718844)\n",
      "2020-06-06 06:53:33,917 : INFO : estimated required memory for 71290 words and 100 dimensions: 92677000 bytes\n",
      "2020-06-06 06:53:33,917 : INFO : resetting layer weights\n",
      "2020-06-06 06:53:45,696 : INFO : training model with 3 workers on 71290 vocabulary and 100 features, using sg=0 hs=0 sample=0.001 negative=5 window=5\n",
      "2020-06-06 06:53:46,705 : INFO : EPOCH 1 - PROGRESS: at 5.94% examples, 732868 words/s, in_qsize 5, out_qsize 0\n",
      "2020-06-06 06:53:47,707 : INFO : EPOCH 1 - PROGRESS: at 14.05% examples, 868821 words/s, in_qsize 4, out_qsize 0\n",
      "2020-06-06 06:53:48,730 : INFO : EPOCH 1 - PROGRESS: at 20.28% examples, 831811 words/s, in_qsize 5, out_qsize 1\n",
      "2020-06-06 06:53:49,733 : INFO : EPOCH 1 - PROGRESS: at 27.98% examples, 866209 words/s, in_qsize 5, out_qsize 0\n",
      "2020-06-06 06:53:50,738 : INFO : EPOCH 1 - PROGRESS: at 34.80% examples, 864833 words/s, in_qsize 5, out_qsize 0\n",
      "2020-06-06 06:53:51,739 : INFO : EPOCH 1 - PROGRESS: at 42.68% examples, 885280 words/s, in_qsize 5, out_qsize 1\n",
      "2020-06-06 06:53:52,744 : INFO : EPOCH 1 - PROGRESS: at 50.38% examples, 896282 words/s, in_qsize 4, out_qsize 1\n",
      "2020-06-06 06:53:53,750 : INFO : EPOCH 1 - PROGRESS: at 58.08% examples, 904497 words/s, in_qsize 5, out_qsize 0\n",
      "2020-06-06 06:53:54,753 : INFO : EPOCH 1 - PROGRESS: at 65.90% examples, 912541 words/s, in_qsize 5, out_qsize 0\n",
      "2020-06-06 06:53:55,764 : INFO : EPOCH 1 - PROGRESS: at 73.60% examples, 917172 words/s, in_qsize 5, out_qsize 0\n",
      "2020-06-06 06:53:56,771 : INFO : EPOCH 1 - PROGRESS: at 81.48% examples, 920897 words/s, in_qsize 5, out_qsize 0\n",
      "2020-06-06 06:53:57,778 : INFO : EPOCH 1 - PROGRESS: at 88.54% examples, 917172 words/s, in_qsize 5, out_qsize 0\n",
      "2020-06-06 06:53:58,779 : INFO : EPOCH 1 - PROGRESS: at 96.59% examples, 923684 words/s, in_qsize 5, out_qsize 0\n",
      "2020-06-06 06:53:59,188 : INFO : worker thread finished; awaiting finish of 2 more threads\n",
      "2020-06-06 06:53:59,190 : INFO : worker thread finished; awaiting finish of 1 more threads\n",
      "2020-06-06 06:53:59,195 : INFO : worker thread finished; awaiting finish of 0 more threads\n",
      "2020-06-06 06:53:59,196 : INFO : EPOCH - 1 : training on 17005207 raw words (12506029 effective words) took 13.5s, 926469 effective words/s\n",
      "2020-06-06 06:54:00,200 : INFO : EPOCH 2 - PROGRESS: at 7.82% examples, 968794 words/s, in_qsize 5, out_qsize 0\n",
      "2020-06-06 06:54:01,200 : INFO : EPOCH 2 - PROGRESS: at 15.23% examples, 945145 words/s, in_qsize 5, out_qsize 1\n",
      "2020-06-06 06:54:02,204 : INFO : EPOCH 2 - PROGRESS: at 23.16% examples, 960850 words/s, in_qsize 5, out_qsize 0\n",
      "2020-06-06 06:54:03,211 : INFO : EPOCH 2 - PROGRESS: at 31.10% examples, 969719 words/s, in_qsize 5, out_qsize 0\n",
      "2020-06-06 06:54:04,213 : INFO : EPOCH 2 - PROGRESS: at 38.98% examples, 973947 words/s, in_qsize 5, out_qsize 0\n",
      "2020-06-06 06:54:05,213 : INFO : EPOCH 2 - PROGRESS: at 46.74% examples, 974127 words/s, in_qsize 5, out_qsize 0\n",
      "2020-06-06 06:54:06,220 : INFO : EPOCH 2 - PROGRESS: at 54.67% examples, 976626 words/s, in_qsize 5, out_qsize 0\n",
      "2020-06-06 06:54:07,232 : INFO : EPOCH 2 - PROGRESS: at 62.08% examples, 969252 words/s, in_qsize 5, out_qsize 1\n",
      "2020-06-06 06:54:08,236 : INFO : EPOCH 2 - PROGRESS: at 69.19% examples, 960272 words/s, in_qsize 5, out_qsize 0\n",
      "2020-06-06 06:54:09,240 : INFO : EPOCH 2 - PROGRESS: at 77.13% examples, 961841 words/s, in_qsize 4, out_qsize 0\n",
      "2020-06-06 06:54:10,256 : INFO : EPOCH 2 - PROGRESS: at 85.13% examples, 963559 words/s, in_qsize 5, out_qsize 0\n",
      "2020-06-06 06:54:11,260 : INFO : EPOCH 2 - PROGRESS: at 93.18% examples, 966732 words/s, in_qsize 5, out_qsize 0\n",
      "2020-06-06 06:54:12,097 : INFO : worker thread finished; awaiting finish of 2 more threads\n",
      "2020-06-06 06:54:12,100 : INFO : worker thread finished; awaiting finish of 1 more threads\n",
      "2020-06-06 06:54:12,102 : INFO : worker thread finished; awaiting finish of 0 more threads\n",
      "2020-06-06 06:54:12,103 : INFO : EPOCH - 2 : training on 17005207 raw words (12508423 effective words) took 12.9s, 969269 effective words/s\n",
      "2020-06-06 06:54:13,111 : INFO : EPOCH 3 - PROGRESS: at 7.94% examples, 981114 words/s, in_qsize 6, out_qsize 0\n",
      "2020-06-06 06:54:14,116 : INFO : EPOCH 3 - PROGRESS: at 15.93% examples, 985845 words/s, in_qsize 5, out_qsize 0\n",
      "2020-06-06 06:54:15,120 : INFO : EPOCH 3 - PROGRESS: at 23.93% examples, 990869 words/s, in_qsize 5, out_qsize 0\n",
      "2020-06-06 06:54:16,135 : INFO : EPOCH 3 - PROGRESS: at 31.86% examples, 990185 words/s, in_qsize 5, out_qsize 0\n",
      "2020-06-06 06:54:17,144 : INFO : EPOCH 3 - PROGRESS: at 38.80% examples, 965383 words/s, in_qsize 5, out_qsize 1\n",
      "2020-06-06 06:54:18,155 : INFO : EPOCH 3 - PROGRESS: at 45.68% examples, 946955 words/s, in_qsize 5, out_qsize 0\n",
      "2020-06-06 06:54:19,161 : INFO : EPOCH 3 - PROGRESS: at 51.62% examples, 917570 words/s, in_qsize 5, out_qsize 0\n",
      "2020-06-06 06:54:20,168 : INFO : EPOCH 3 - PROGRESS: at 59.08% examples, 919380 words/s, in_qsize 4, out_qsize 1\n",
      "2020-06-06 06:54:21,173 : INFO : EPOCH 3 - PROGRESS: at 67.49% examples, 933664 words/s, in_qsize 5, out_qsize 0\n",
      "2020-06-06 06:54:22,175 : INFO : EPOCH 3 - PROGRESS: at 75.66% examples, 941710 words/s, in_qsize 4, out_qsize 0\n",
      "2020-06-06 06:54:23,183 : INFO : EPOCH 3 - PROGRESS: at 83.66% examples, 945447 words/s, in_qsize 5, out_qsize 0\n",
      "2020-06-06 06:54:24,183 : INFO : EPOCH 3 - PROGRESS: at 91.59% examples, 949257 words/s, in_qsize 5, out_qsize 0\n",
      "2020-06-06 06:54:25,188 : INFO : EPOCH 3 - PROGRESS: at 99.65% examples, 953017 words/s, in_qsize 6, out_qsize 0\n",
      "2020-06-06 06:54:25,215 : INFO : worker thread finished; awaiting finish of 2 more threads\n",
      "2020-06-06 06:54:25,218 : INFO : worker thread finished; awaiting finish of 1 more threads\n",
      "2020-06-06 06:54:25,220 : INFO : worker thread finished; awaiting finish of 0 more threads\n",
      "2020-06-06 06:54:25,221 : INFO : EPOCH - 3 : training on 17005207 raw words (12507885 effective words) took 13.1s, 953796 effective words/s\n",
      "2020-06-06 06:54:26,224 : INFO : EPOCH 4 - PROGRESS: at 7.82% examples, 970106 words/s, in_qsize 4, out_qsize 0\n",
      "2020-06-06 06:54:27,229 : INFO : EPOCH 4 - PROGRESS: at 15.81% examples, 979977 words/s, in_qsize 5, out_qsize 0\n",
      "2020-06-06 06:54:28,234 : INFO : EPOCH 4 - PROGRESS: at 22.69% examples, 939027 words/s, in_qsize 6, out_qsize 0\n",
      "2020-06-06 06:54:29,236 : INFO : EPOCH 4 - PROGRESS: at 30.04% examples, 936512 words/s, in_qsize 5, out_qsize 0\n",
      "2020-06-06 06:54:30,241 : INFO : EPOCH 4 - PROGRESS: at 37.80% examples, 944195 words/s, in_qsize 5, out_qsize 0\n",
      "2020-06-06 06:54:31,245 : INFO : EPOCH 4 - PROGRESS: at 45.50% examples, 947208 words/s, in_qsize 4, out_qsize 1\n",
      "2020-06-06 06:54:32,251 : INFO : EPOCH 4 - PROGRESS: at 52.09% examples, 929284 words/s, in_qsize 5, out_qsize 0\n",
      "2020-06-06 06:54:33,255 : INFO : EPOCH 4 - PROGRESS: at 59.55% examples, 930039 words/s, in_qsize 5, out_qsize 1\n",
      "2020-06-06 06:54:34,260 : INFO : EPOCH 4 - PROGRESS: at 65.90% examples, 914558 words/s, in_qsize 5, out_qsize 0\n",
      "2020-06-06 06:54:35,261 : INFO : EPOCH 4 - PROGRESS: at 72.66% examples, 907944 words/s, in_qsize 5, out_qsize 0\n",
      "2020-06-06 06:54:36,262 : INFO : EPOCH 4 - PROGRESS: at 80.60% examples, 914012 words/s, in_qsize 5, out_qsize 0\n",
      "2020-06-06 06:54:37,273 : INFO : EPOCH 4 - PROGRESS: at 88.59% examples, 920188 words/s, in_qsize 5, out_qsize 0\n",
      "2020-06-06 06:54:38,276 : INFO : EPOCH 4 - PROGRESS: at 95.83% examples, 918538 words/s, in_qsize 6, out_qsize 0\n",
      "2020-06-06 06:54:38,846 : INFO : worker thread finished; awaiting finish of 2 more threads\n"
     ]
    },
    {
     "name": "stderr",
     "output_type": "stream",
     "text": [
      "2020-06-06 06:54:38,852 : INFO : worker thread finished; awaiting finish of 1 more threads\n",
      "2020-06-06 06:54:38,860 : INFO : worker thread finished; awaiting finish of 0 more threads\n",
      "2020-06-06 06:54:38,861 : INFO : EPOCH - 4 : training on 17005207 raw words (12506238 effective words) took 13.6s, 917037 effective words/s\n",
      "2020-06-06 06:54:39,864 : INFO : EPOCH 5 - PROGRESS: at 7.47% examples, 925529 words/s, in_qsize 5, out_qsize 0\n",
      "2020-06-06 06:54:40,865 : INFO : EPOCH 5 - PROGRESS: at 15.29% examples, 948677 words/s, in_qsize 5, out_qsize 0\n",
      "2020-06-06 06:54:41,866 : INFO : EPOCH 5 - PROGRESS: at 23.05% examples, 956795 words/s, in_qsize 5, out_qsize 0\n",
      "2020-06-06 06:54:42,873 : INFO : EPOCH 5 - PROGRESS: at 30.81% examples, 961296 words/s, in_qsize 6, out_qsize 0\n",
      "2020-06-06 06:54:43,882 : INFO : EPOCH 5 - PROGRESS: at 38.68% examples, 965790 words/s, in_qsize 5, out_qsize 0\n",
      "2020-06-06 06:54:44,890 : INFO : EPOCH 5 - PROGRESS: at 46.44% examples, 965999 words/s, in_qsize 4, out_qsize 1\n",
      "2020-06-06 06:54:45,892 : INFO : EPOCH 5 - PROGRESS: at 54.09% examples, 964970 words/s, in_qsize 4, out_qsize 1\n",
      "2020-06-06 06:54:46,905 : INFO : EPOCH 5 - PROGRESS: at 61.32% examples, 956355 words/s, in_qsize 4, out_qsize 1\n",
      "2020-06-06 06:54:47,909 : INFO : EPOCH 5 - PROGRESS: at 67.37% examples, 933904 words/s, in_qsize 4, out_qsize 1\n",
      "2020-06-06 06:54:48,916 : INFO : EPOCH 5 - PROGRESS: at 74.54% examples, 929982 words/s, in_qsize 5, out_qsize 0\n",
      "2020-06-06 06:54:49,928 : INFO : EPOCH 5 - PROGRESS: at 82.66% examples, 934810 words/s, in_qsize 4, out_qsize 1\n",
      "2020-06-06 06:54:50,940 : INFO : EPOCH 5 - PROGRESS: at 90.36% examples, 936540 words/s, in_qsize 4, out_qsize 1\n",
      "2020-06-06 06:54:51,949 : INFO : EPOCH 5 - PROGRESS: at 98.06% examples, 937159 words/s, in_qsize 5, out_qsize 0\n",
      "2020-06-06 06:54:52,188 : INFO : worker thread finished; awaiting finish of 2 more threads\n",
      "2020-06-06 06:54:52,188 : INFO : worker thread finished; awaiting finish of 1 more threads\n",
      "2020-06-06 06:54:52,194 : INFO : worker thread finished; awaiting finish of 0 more threads\n",
      "2020-06-06 06:54:52,195 : INFO : EPOCH - 5 : training on 17005207 raw words (12505143 effective words) took 13.3s, 938002 effective words/s\n",
      "2020-06-06 06:54:52,195 : INFO : training on a 85026035 raw words (62533718 effective words) took 66.5s, 940373 effective words/s\n",
      "2020-06-06 06:54:52,196 : INFO : resetting layer weights\n",
      "2020-06-06 06:55:04,165 : INFO : collecting all words and their counts\n",
      "2020-06-06 06:55:04,195 : INFO : PROGRESS: at sentence #0, processed 0 words, keeping 0 word types\n",
      "2020-06-06 06:55:09,161 : INFO : collected 253854 word types from a corpus of 17005207 raw words and 1701 sentences\n",
      "2020-06-06 06:55:09,162 : INFO : Loading a fresh vocabulary\n",
      "2020-06-06 06:55:09,520 : INFO : effective_min_count=5 retains 71290 unique words (28% of original 253854, drops 182564)\n",
      "2020-06-06 06:55:09,521 : INFO : effective_min_count=5 leaves 16718844 word corpus (98% of original 17005207, drops 286363)\n",
      "2020-06-06 06:55:09,729 : INFO : deleting the raw counts dictionary of 253854 items\n",
      "2020-06-06 06:55:09,739 : INFO : sample=0.001 downsamples 38 most-common words\n",
      "2020-06-06 06:55:09,739 : INFO : downsampling leaves estimated 12506280 word corpus (74.8% of prior 16718844)\n",
      "2020-06-06 06:55:10,672 : INFO : estimated required memory for 71290 words, 306868 buckets and 100 dimensions: 232371000 bytes\n",
      "2020-06-06 06:55:10,682 : INFO : resetting layer weights\n",
      "2020-06-06 06:55:31,516 : INFO : training model with 3 workers on 71290 vocabulary and 100 features, using sg=0 hs=0 sample=0.001 negative=5 window=5\n",
      "2020-06-06 06:55:32,547 : INFO : EPOCH 1 - PROGRESS: at 1.88% examples, 236452 words/s, in_qsize 5, out_qsize 0\n",
      "2020-06-06 06:55:33,554 : INFO : EPOCH 1 - PROGRESS: at 4.12% examples, 256698 words/s, in_qsize 5, out_qsize 0\n",
      "2020-06-06 06:55:34,564 : INFO : EPOCH 1 - PROGRESS: at 6.29% examples, 258629 words/s, in_qsize 5, out_qsize 0\n",
      "2020-06-06 06:55:35,569 : INFO : EPOCH 1 - PROGRESS: at 8.47% examples, 261126 words/s, in_qsize 6, out_qsize 0\n",
      "2020-06-06 06:55:36,589 : INFO : EPOCH 1 - PROGRESS: at 10.64% examples, 261695 words/s, in_qsize 5, out_qsize 0\n",
      "2020-06-06 06:55:37,598 : INFO : EPOCH 1 - PROGRESS: at 12.82% examples, 262968 words/s, in_qsize 6, out_qsize 0\n",
      "2020-06-06 06:55:38,605 : INFO : EPOCH 1 - PROGRESS: at 14.93% examples, 262815 words/s, in_qsize 5, out_qsize 0\n",
      "2020-06-06 06:55:39,632 : INFO : EPOCH 1 - PROGRESS: at 17.11% examples, 263117 words/s, in_qsize 4, out_qsize 1\n",
      "2020-06-06 06:55:40,678 : INFO : EPOCH 1 - PROGRESS: at 19.40% examples, 264371 words/s, in_qsize 5, out_qsize 0\n",
      "2020-06-06 06:55:41,692 : INFO : EPOCH 1 - PROGRESS: at 21.63% examples, 265543 words/s, in_qsize 6, out_qsize 0\n",
      "2020-06-06 06:55:42,715 : INFO : EPOCH 1 - PROGRESS: at 23.75% examples, 265327 words/s, in_qsize 6, out_qsize 0\n",
      "2020-06-06 06:55:43,725 : INFO : EPOCH 1 - PROGRESS: at 25.81% examples, 264553 words/s, in_qsize 4, out_qsize 1\n",
      "2020-06-06 06:55:44,748 : INFO : EPOCH 1 - PROGRESS: at 27.98% examples, 264898 words/s, in_qsize 6, out_qsize 0\n",
      "2020-06-06 06:55:45,751 : INFO : EPOCH 1 - PROGRESS: at 29.98% examples, 264037 words/s, in_qsize 6, out_qsize 0\n",
      "2020-06-06 06:55:46,766 : INFO : EPOCH 1 - PROGRESS: at 31.98% examples, 263018 words/s, in_qsize 6, out_qsize 0\n",
      "2020-06-06 06:55:47,823 : INFO : EPOCH 1 - PROGRESS: at 33.86% examples, 260577 words/s, in_qsize 6, out_qsize 0\n",
      "2020-06-06 06:55:48,851 : INFO : EPOCH 1 - PROGRESS: at 35.80% examples, 259286 words/s, in_qsize 6, out_qsize 0\n",
      "2020-06-06 06:55:49,879 : INFO : EPOCH 1 - PROGRESS: at 37.74% examples, 258016 words/s, in_qsize 6, out_qsize 0\n",
      "2020-06-06 06:55:50,911 : INFO : EPOCH 1 - PROGRESS: at 39.80% examples, 257564 words/s, in_qsize 5, out_qsize 0\n",
      "2020-06-06 06:55:51,953 : INFO : EPOCH 1 - PROGRESS: at 41.80% examples, 256687 words/s, in_qsize 5, out_qsize 0\n",
      "2020-06-06 06:55:52,969 : INFO : EPOCH 1 - PROGRESS: at 43.74% examples, 255858 words/s, in_qsize 5, out_qsize 0\n",
      "2020-06-06 06:55:53,984 : INFO : EPOCH 1 - PROGRESS: at 45.74% examples, 255496 words/s, in_qsize 5, out_qsize 0\n",
      "2020-06-06 06:55:55,003 : INFO : EPOCH 1 - PROGRESS: at 47.68% examples, 254786 words/s, in_qsize 5, out_qsize 0\n",
      "2020-06-06 06:55:56,056 : INFO : EPOCH 1 - PROGRESS: at 49.50% examples, 253221 words/s, in_qsize 5, out_qsize 0\n",
      "2020-06-06 06:55:57,126 : INFO : EPOCH 1 - PROGRESS: at 51.15% examples, 250691 words/s, in_qsize 5, out_qsize 0\n",
      "2020-06-06 06:55:58,174 : INFO : EPOCH 1 - PROGRESS: at 53.09% examples, 249992 words/s, in_qsize 5, out_qsize 0\n",
      "2020-06-06 06:55:59,186 : INFO : EPOCH 1 - PROGRESS: at 54.73% examples, 248341 words/s, in_qsize 6, out_qsize 0\n",
      "2020-06-06 06:56:00,199 : INFO : EPOCH 1 - PROGRESS: at 56.44% examples, 247043 words/s, in_qsize 5, out_qsize 0\n",
      "2020-06-06 06:56:01,237 : INFO : EPOCH 1 - PROGRESS: at 58.38% examples, 246563 words/s, in_qsize 5, out_qsize 0\n",
      "2020-06-06 06:56:02,292 : INFO : EPOCH 1 - PROGRESS: at 60.38% examples, 246292 words/s, in_qsize 5, out_qsize 0\n",
      "2020-06-06 06:56:03,322 : INFO : EPOCH 1 - PROGRESS: at 62.32% examples, 245939 words/s, in_qsize 5, out_qsize 0\n",
      "2020-06-06 06:56:04,348 : INFO : EPOCH 1 - PROGRESS: at 64.26% examples, 245672 words/s, in_qsize 5, out_qsize 0\n",
      "2020-06-06 06:56:05,352 : INFO : EPOCH 1 - PROGRESS: at 66.20% examples, 245553 words/s, in_qsize 6, out_qsize 0\n",
      "2020-06-06 06:56:06,409 : INFO : EPOCH 1 - PROGRESS: at 68.25% examples, 245522 words/s, in_qsize 5, out_qsize 0\n",
      "2020-06-06 06:56:07,429 : INFO : EPOCH 1 - PROGRESS: at 70.19% examples, 245308 words/s, in_qsize 5, out_qsize 0\n",
      "2020-06-06 06:56:08,463 : INFO : EPOCH 1 - PROGRESS: at 72.02% examples, 244635 words/s, in_qsize 4, out_qsize 1\n",
      "2020-06-06 06:56:09,502 : INFO : EPOCH 1 - PROGRESS: at 73.90% examples, 244203 words/s, in_qsize 5, out_qsize 0\n",
      "2020-06-06 06:56:10,505 : INFO : EPOCH 1 - PROGRESS: at 75.84% examples, 243884 words/s, in_qsize 5, out_qsize 0\n",
      "2020-06-06 06:56:11,552 : INFO : EPOCH 1 - PROGRESS: at 77.90% examples, 243755 words/s, in_qsize 5, out_qsize 0\n",
      "2020-06-06 06:56:12,562 : INFO : EPOCH 1 - PROGRESS: at 79.84% examples, 243655 words/s, in_qsize 5, out_qsize 0\n",
      "2020-06-06 06:56:13,563 : INFO : EPOCH 1 - PROGRESS: at 81.72% examples, 243419 words/s, in_qsize 5, out_qsize 0\n"
     ]
    },
    {
     "name": "stderr",
     "output_type": "stream",
     "text": [
      "2020-06-06 06:56:14,565 : INFO : EPOCH 1 - PROGRESS: at 83.72% examples, 243579 words/s, in_qsize 5, out_qsize 0\n",
      "2020-06-06 06:56:15,569 : INFO : EPOCH 1 - PROGRESS: at 85.60% examples, 243350 words/s, in_qsize 6, out_qsize 0\n",
      "2020-06-06 06:56:16,578 : INFO : EPOCH 1 - PROGRESS: at 87.60% examples, 243430 words/s, in_qsize 5, out_qsize 0\n",
      "2020-06-06 06:56:17,592 : INFO : EPOCH 1 - PROGRESS: at 89.48% examples, 243213 words/s, in_qsize 5, out_qsize 0\n",
      "2020-06-06 06:56:18,646 : INFO : EPOCH 1 - PROGRESS: at 91.48% examples, 243031 words/s, in_qsize 6, out_qsize 0\n",
      "2020-06-06 06:56:19,666 : INFO : EPOCH 1 - PROGRESS: at 93.42% examples, 242887 words/s, in_qsize 5, out_qsize 0\n",
      "2020-06-06 06:56:20,696 : INFO : EPOCH 1 - PROGRESS: at 95.41% examples, 242882 words/s, in_qsize 4, out_qsize 1\n",
      "2020-06-06 06:56:21,743 : INFO : EPOCH 1 - PROGRESS: at 97.53% examples, 243021 words/s, in_qsize 6, out_qsize 0\n",
      "2020-06-06 06:56:22,743 : INFO : EPOCH 1 - PROGRESS: at 99.47% examples, 243022 words/s, in_qsize 5, out_qsize 0\n",
      "2020-06-06 06:56:22,978 : INFO : worker thread finished; awaiting finish of 2 more threads\n",
      "2020-06-06 06:56:22,980 : INFO : worker thread finished; awaiting finish of 1 more threads\n",
      "2020-06-06 06:56:22,998 : INFO : worker thread finished; awaiting finish of 0 more threads\n",
      "2020-06-06 06:56:22,999 : INFO : EPOCH - 1 : training on 17005207 raw words (12506302 effective words) took 51.5s, 243055 effective words/s\n",
      "2020-06-06 06:56:24,092 : INFO : EPOCH 2 - PROGRESS: at 1.82% examples, 210584 words/s, in_qsize 3, out_qsize 2\n",
      "2020-06-06 06:56:25,099 : INFO : EPOCH 2 - PROGRESS: at 3.76% examples, 224667 words/s, in_qsize 5, out_qsize 0\n",
      "2020-06-06 06:56:26,138 : INFO : EPOCH 2 - PROGRESS: at 5.64% examples, 224291 words/s, in_qsize 5, out_qsize 0\n",
      "2020-06-06 06:56:27,152 : INFO : EPOCH 2 - PROGRESS: at 7.41% examples, 221414 words/s, in_qsize 5, out_qsize 0\n",
      "2020-06-06 06:56:28,179 : INFO : EPOCH 2 - PROGRESS: at 9.35% examples, 224035 words/s, in_qsize 5, out_qsize 0\n",
      "2020-06-06 06:56:29,182 : INFO : EPOCH 2 - PROGRESS: at 11.29% examples, 226412 words/s, in_qsize 5, out_qsize 0\n",
      "2020-06-06 06:56:30,190 : INFO : EPOCH 2 - PROGRESS: at 13.11% examples, 226499 words/s, in_qsize 5, out_qsize 0\n",
      "2020-06-06 06:56:31,215 : INFO : EPOCH 2 - PROGRESS: at 15.05% examples, 227687 words/s, in_qsize 5, out_qsize 1\n",
      "2020-06-06 06:56:32,235 : INFO : EPOCH 2 - PROGRESS: at 17.05% examples, 229596 words/s, in_qsize 5, out_qsize 0\n",
      "2020-06-06 06:56:33,247 : INFO : EPOCH 2 - PROGRESS: at 19.05% examples, 231341 words/s, in_qsize 5, out_qsize 0\n",
      "2020-06-06 06:56:34,247 : INFO : EPOCH 2 - PROGRESS: at 20.93% examples, 231698 words/s, in_qsize 5, out_qsize 1\n",
      "2020-06-06 06:56:35,271 : INFO : EPOCH 2 - PROGRESS: at 22.93% examples, 232866 words/s, in_qsize 5, out_qsize 0\n",
      "2020-06-06 06:56:36,277 : INFO : EPOCH 2 - PROGRESS: at 24.81% examples, 233031 words/s, in_qsize 5, out_qsize 0\n",
      "2020-06-06 06:56:37,288 : INFO : EPOCH 2 - PROGRESS: at 26.63% examples, 232732 words/s, in_qsize 5, out_qsize 0\n",
      "2020-06-06 06:56:38,306 : INFO : EPOCH 2 - PROGRESS: at 28.51% examples, 232832 words/s, in_qsize 6, out_qsize 0\n",
      "2020-06-06 06:56:39,334 : INFO : EPOCH 2 - PROGRESS: at 30.45% examples, 233263 words/s, in_qsize 6, out_qsize 0\n",
      "2020-06-06 06:56:40,363 : INFO : EPOCH 2 - PROGRESS: at 32.39% examples, 233551 words/s, in_qsize 5, out_qsize 0\n",
      "2020-06-06 06:56:41,370 : INFO : EPOCH 2 - PROGRESS: at 34.33% examples, 234127 words/s, in_qsize 5, out_qsize 0\n",
      "2020-06-06 06:56:42,392 : INFO : EPOCH 2 - PROGRESS: at 36.27% examples, 234475 words/s, in_qsize 5, out_qsize 0\n",
      "2020-06-06 06:56:43,440 : INFO : EPOCH 2 - PROGRESS: at 38.10% examples, 233618 words/s, in_qsize 5, out_qsize 0\n",
      "2020-06-06 06:56:44,514 : INFO : EPOCH 2 - PROGRESS: at 40.04% examples, 233216 words/s, in_qsize 4, out_qsize 1\n",
      "2020-06-06 06:56:45,546 : INFO : EPOCH 2 - PROGRESS: at 41.98% examples, 233349 words/s, in_qsize 5, out_qsize 0\n",
      "2020-06-06 06:56:46,576 : INFO : EPOCH 2 - PROGRESS: at 43.80% examples, 232837 words/s, in_qsize 6, out_qsize 0\n",
      "2020-06-06 06:56:47,594 : INFO : EPOCH 2 - PROGRESS: at 45.68% examples, 232843 words/s, in_qsize 5, out_qsize 0\n",
      "2020-06-06 06:56:48,599 : INFO : EPOCH 2 - PROGRESS: at 47.50% examples, 232641 words/s, in_qsize 5, out_qsize 0\n",
      "2020-06-06 06:56:49,605 : INFO : EPOCH 2 - PROGRESS: at 49.38% examples, 232741 words/s, in_qsize 5, out_qsize 0\n",
      "2020-06-06 06:56:50,611 : INFO : EPOCH 2 - PROGRESS: at 51.09% examples, 231993 words/s, in_qsize 5, out_qsize 0\n",
      "2020-06-06 06:56:51,643 : INFO : EPOCH 2 - PROGRESS: at 52.97% examples, 231948 words/s, in_qsize 6, out_qsize 0\n",
      "2020-06-06 06:56:52,661 : INFO : EPOCH 2 - PROGRESS: at 54.67% examples, 231185 words/s, in_qsize 5, out_qsize 0\n",
      "2020-06-06 06:56:53,666 : INFO : EPOCH 2 - PROGRESS: at 56.44% examples, 230856 words/s, in_qsize 6, out_qsize 0\n",
      "2020-06-06 06:56:54,694 : INFO : EPOCH 2 - PROGRESS: at 58.38% examples, 231012 words/s, in_qsize 5, out_qsize 0\n",
      "2020-06-06 06:56:55,719 : INFO : EPOCH 2 - PROGRESS: at 60.32% examples, 231225 words/s, in_qsize 6, out_qsize 0\n",
      "2020-06-06 06:56:56,735 : INFO : EPOCH 2 - PROGRESS: at 62.26% examples, 231450 words/s, in_qsize 6, out_qsize 0\n",
      "2020-06-06 06:56:57,737 : INFO : EPOCH 2 - PROGRESS: at 63.96% examples, 230973 words/s, in_qsize 5, out_qsize 0\n",
      "2020-06-06 06:56:58,780 : INFO : EPOCH 2 - PROGRESS: at 65.78% examples, 230577 words/s, in_qsize 6, out_qsize 0\n",
      "2020-06-06 06:56:59,792 : INFO : EPOCH 2 - PROGRESS: at 67.55% examples, 230244 words/s, in_qsize 5, out_qsize 0\n",
      "2020-06-06 06:57:00,812 : INFO : EPOCH 2 - PROGRESS: at 69.31% examples, 229914 words/s, in_qsize 5, out_qsize 0\n",
      "2020-06-06 06:57:01,814 : INFO : EPOCH 2 - PROGRESS: at 71.19% examples, 230085 words/s, in_qsize 5, out_qsize 0\n",
      "2020-06-06 06:57:02,837 : INFO : EPOCH 2 - PROGRESS: at 73.13% examples, 230286 words/s, in_qsize 5, out_qsize 0\n",
      "2020-06-06 06:57:03,876 : INFO : EPOCH 2 - PROGRESS: at 75.13% examples, 230441 words/s, in_qsize 5, out_qsize 0\n",
      "2020-06-06 06:57:04,890 : INFO : EPOCH 2 - PROGRESS: at 77.07% examples, 230405 words/s, in_qsize 6, out_qsize 0\n",
      "2020-06-06 06:57:05,908 : INFO : EPOCH 2 - PROGRESS: at 79.07% examples, 230710 words/s, in_qsize 5, out_qsize 0\n",
      "2020-06-06 06:57:06,908 : INFO : EPOCH 2 - PROGRESS: at 81.01% examples, 230960 words/s, in_qsize 5, out_qsize 0\n",
      "2020-06-06 06:57:07,939 : INFO : EPOCH 2 - PROGRESS: at 83.01% examples, 231178 words/s, in_qsize 6, out_qsize 0\n",
      "2020-06-06 06:57:08,995 : INFO : EPOCH 2 - PROGRESS: at 84.95% examples, 231168 words/s, in_qsize 6, out_qsize 0\n",
      "2020-06-06 06:57:10,015 : INFO : EPOCH 2 - PROGRESS: at 86.95% examples, 231453 words/s, in_qsize 4, out_qsize 1\n",
      "2020-06-06 06:57:11,048 : INFO : EPOCH 2 - PROGRESS: at 88.95% examples, 231717 words/s, in_qsize 6, out_qsize 0\n",
      "2020-06-06 06:57:12,082 : INFO : EPOCH 2 - PROGRESS: at 90.89% examples, 231787 words/s, in_qsize 5, out_qsize 0\n",
      "2020-06-06 06:57:13,137 : INFO : EPOCH 2 - PROGRESS: at 92.89% examples, 231839 words/s, in_qsize 5, out_qsize 0\n",
      "2020-06-06 06:57:14,141 : INFO : EPOCH 2 - PROGRESS: at 94.89% examples, 232149 words/s, in_qsize 5, out_qsize 0\n",
      "2020-06-06 06:57:15,161 : INFO : EPOCH 2 - PROGRESS: at 96.88% examples, 232392 words/s, in_qsize 6, out_qsize 0\n",
      "2020-06-06 06:57:16,211 : INFO : EPOCH 2 - PROGRESS: at 98.94% examples, 232578 words/s, in_qsize 5, out_qsize 0\n",
      "2020-06-06 06:57:16,702 : INFO : worker thread finished; awaiting finish of 2 more threads\n",
      "2020-06-06 06:57:16,710 : INFO : worker thread finished; awaiting finish of 1 more threads\n",
      "2020-06-06 06:57:16,724 : INFO : worker thread finished; awaiting finish of 0 more threads\n",
      "2020-06-06 06:57:16,725 : INFO : EPOCH - 2 : training on 17005207 raw words (12506815 effective words) took 53.7s, 232799 effective words/s\n",
      "2020-06-06 06:57:17,744 : INFO : EPOCH 3 - PROGRESS: at 1.82% examples, 225617 words/s, in_qsize 6, out_qsize 0\n",
      "2020-06-06 06:57:18,749 : INFO : EPOCH 3 - PROGRESS: at 3.82% examples, 236682 words/s, in_qsize 6, out_qsize 0\n",
      "2020-06-06 06:57:19,756 : INFO : EPOCH 3 - PROGRESS: at 5.82% examples, 239392 words/s, in_qsize 5, out_qsize 0\n",
      "2020-06-06 06:57:20,766 : INFO : EPOCH 3 - PROGRESS: at 7.82% examples, 240325 words/s, in_qsize 5, out_qsize 0\n",
      "2020-06-06 06:57:21,801 : INFO : EPOCH 3 - PROGRESS: at 9.82% examples, 240124 words/s, in_qsize 5, out_qsize 0\n"
     ]
    },
    {
     "name": "stderr",
     "output_type": "stream",
     "text": [
      "2020-06-06 06:57:22,872 : INFO : EPOCH 3 - PROGRESS: at 11.82% examples, 238704 words/s, in_qsize 4, out_qsize 2\n",
      "2020-06-06 06:57:23,898 : INFO : EPOCH 3 - PROGRESS: at 13.82% examples, 239507 words/s, in_qsize 5, out_qsize 0\n",
      "2020-06-06 06:57:24,949 : INFO : EPOCH 3 - PROGRESS: at 15.87% examples, 239990 words/s, in_qsize 5, out_qsize 0\n",
      "2020-06-06 06:57:25,951 : INFO : EPOCH 3 - PROGRESS: at 17.81% examples, 240290 words/s, in_qsize 4, out_qsize 1\n",
      "2020-06-06 06:57:26,954 : INFO : EPOCH 3 - PROGRESS: at 19.87% examples, 241780 words/s, in_qsize 5, out_qsize 0\n",
      "2020-06-06 06:57:27,965 : INFO : EPOCH 3 - PROGRESS: at 21.87% examples, 242374 words/s, in_qsize 5, out_qsize 0\n",
      "2020-06-06 06:57:28,968 : INFO : EPOCH 3 - PROGRESS: at 23.75% examples, 242088 words/s, in_qsize 6, out_qsize 0\n",
      "2020-06-06 06:57:29,996 : INFO : EPOCH 3 - PROGRESS: at 25.63% examples, 241078 words/s, in_qsize 6, out_qsize 0\n",
      "2020-06-06 06:57:31,010 : INFO : EPOCH 3 - PROGRESS: at 27.51% examples, 240606 words/s, in_qsize 4, out_qsize 1\n",
      "2020-06-06 06:57:32,016 : INFO : EPOCH 3 - PROGRESS: at 29.45% examples, 240841 words/s, in_qsize 6, out_qsize 0\n",
      "2020-06-06 06:57:33,068 : INFO : EPOCH 3 - PROGRESS: at 31.45% examples, 240866 words/s, in_qsize 5, out_qsize 0\n",
      "2020-06-06 06:57:34,096 : INFO : EPOCH 3 - PROGRESS: at 33.39% examples, 240749 words/s, in_qsize 5, out_qsize 0\n",
      "2020-06-06 06:57:35,154 : INFO : EPOCH 3 - PROGRESS: at 35.39% examples, 240651 words/s, in_qsize 5, out_qsize 0\n",
      "2020-06-06 06:57:36,168 : INFO : EPOCH 3 - PROGRESS: at 37.33% examples, 240633 words/s, in_qsize 4, out_qsize 1\n",
      "2020-06-06 06:57:37,183 : INFO : EPOCH 3 - PROGRESS: at 39.33% examples, 240922 words/s, in_qsize 5, out_qsize 1\n",
      "2020-06-06 06:57:38,185 : INFO : EPOCH 3 - PROGRESS: at 41.27% examples, 240974 words/s, in_qsize 5, out_qsize 1\n",
      "2020-06-06 06:57:39,205 : INFO : EPOCH 3 - PROGRESS: at 43.21% examples, 240950 words/s, in_qsize 5, out_qsize 0\n",
      "2020-06-06 06:57:40,233 : INFO : EPOCH 3 - PROGRESS: at 45.15% examples, 240725 words/s, in_qsize 5, out_qsize 0\n",
      "2020-06-06 06:57:41,249 : INFO : EPOCH 3 - PROGRESS: at 47.09% examples, 240725 words/s, in_qsize 5, out_qsize 0\n",
      "2020-06-06 06:57:42,263 : INFO : EPOCH 3 - PROGRESS: at 49.03% examples, 240704 words/s, in_qsize 5, out_qsize 0\n",
      "2020-06-06 06:57:43,272 : INFO : EPOCH 3 - PROGRESS: at 50.97% examples, 240776 words/s, in_qsize 5, out_qsize 0\n",
      "2020-06-06 06:57:44,319 : INFO : EPOCH 3 - PROGRESS: at 53.03% examples, 241005 words/s, in_qsize 6, out_qsize 0\n",
      "2020-06-06 06:57:45,332 : INFO : EPOCH 3 - PROGRESS: at 54.97% examples, 240975 words/s, in_qsize 5, out_qsize 0\n",
      "2020-06-06 06:57:46,362 : INFO : EPOCH 3 - PROGRESS: at 56.91% examples, 240805 words/s, in_qsize 5, out_qsize 0\n",
      "2020-06-06 06:57:47,413 : INFO : EPOCH 3 - PROGRESS: at 58.91% examples, 240722 words/s, in_qsize 6, out_qsize 0\n",
      "2020-06-06 06:57:48,438 : INFO : EPOCH 3 - PROGRESS: at 60.96% examples, 241129 words/s, in_qsize 6, out_qsize 0\n",
      "2020-06-06 06:57:49,450 : INFO : EPOCH 3 - PROGRESS: at 62.85% examples, 240846 words/s, in_qsize 5, out_qsize 0\n",
      "2020-06-06 06:57:50,453 : INFO : EPOCH 3 - PROGRESS: at 64.84% examples, 241094 words/s, in_qsize 5, out_qsize 0\n",
      "2020-06-06 06:57:51,471 : INFO : EPOCH 3 - PROGRESS: at 66.84% examples, 241244 words/s, in_qsize 5, out_qsize 0\n",
      "2020-06-06 06:57:52,478 : INFO : EPOCH 3 - PROGRESS: at 68.78% examples, 241283 words/s, in_qsize 5, out_qsize 0\n",
      "2020-06-06 06:57:53,497 : INFO : EPOCH 3 - PROGRESS: at 70.72% examples, 241217 words/s, in_qsize 6, out_qsize 0\n",
      "2020-06-06 06:57:54,504 : INFO : EPOCH 3 - PROGRESS: at 72.66% examples, 241242 words/s, in_qsize 6, out_qsize 0\n",
      "2020-06-06 06:57:55,525 : INFO : EPOCH 3 - PROGRESS: at 74.66% examples, 241356 words/s, in_qsize 5, out_qsize 0\n",
      "2020-06-06 06:57:56,532 : INFO : EPOCH 3 - PROGRESS: at 76.72% examples, 241374 words/s, in_qsize 5, out_qsize 0\n",
      "2020-06-06 06:57:57,547 : INFO : EPOCH 3 - PROGRESS: at 78.66% examples, 241231 words/s, in_qsize 5, out_qsize 0\n",
      "2020-06-06 06:57:58,588 : INFO : EPOCH 3 - PROGRESS: at 80.66% examples, 241177 words/s, in_qsize 4, out_qsize 2\n",
      "2020-06-06 06:57:59,590 : INFO : EPOCH 3 - PROGRESS: at 82.66% examples, 241310 words/s, in_qsize 5, out_qsize 0\n",
      "2020-06-06 06:58:00,636 : INFO : EPOCH 3 - PROGRESS: at 84.48% examples, 240791 words/s, in_qsize 6, out_qsize 0\n",
      "2020-06-06 06:58:01,687 : INFO : EPOCH 3 - PROGRESS: at 86.30% examples, 240229 words/s, in_qsize 5, out_qsize 0\n",
      "2020-06-06 06:58:02,740 : INFO : EPOCH 3 - PROGRESS: at 88.18% examples, 239836 words/s, in_qsize 5, out_qsize 0\n",
      "2020-06-06 06:58:03,797 : INFO : EPOCH 3 - PROGRESS: at 89.83% examples, 238875 words/s, in_qsize 5, out_qsize 0\n",
      "2020-06-06 06:58:04,806 : INFO : EPOCH 3 - PROGRESS: at 91.48% examples, 238073 words/s, in_qsize 5, out_qsize 0\n",
      "2020-06-06 06:58:05,868 : INFO : EPOCH 3 - PROGRESS: at 93.12% examples, 237104 words/s, in_qsize 5, out_qsize 0\n",
      "2020-06-06 06:58:06,875 : INFO : EPOCH 3 - PROGRESS: at 95.00% examples, 237004 words/s, in_qsize 5, out_qsize 0\n",
      "2020-06-06 06:58:07,884 : INFO : EPOCH 3 - PROGRESS: at 96.94% examples, 237056 words/s, in_qsize 5, out_qsize 1\n",
      "2020-06-06 06:58:08,911 : INFO : EPOCH 3 - PROGRESS: at 98.94% examples, 237133 words/s, in_qsize 5, out_qsize 1\n",
      "2020-06-06 06:58:09,371 : INFO : worker thread finished; awaiting finish of 2 more threads\n",
      "2020-06-06 06:58:09,419 : INFO : worker thread finished; awaiting finish of 1 more threads\n",
      "2020-06-06 06:58:09,431 : INFO : worker thread finished; awaiting finish of 0 more threads\n",
      "2020-06-06 06:58:09,432 : INFO : EPOCH - 3 : training on 17005207 raw words (12505807 effective words) took 52.7s, 237280 effective words/s\n",
      "2020-06-06 06:58:10,447 : INFO : EPOCH 4 - PROGRESS: at 1.88% examples, 233806 words/s, in_qsize 5, out_qsize 0\n",
      "2020-06-06 06:58:11,453 : INFO : EPOCH 4 - PROGRESS: at 3.88% examples, 240602 words/s, in_qsize 6, out_qsize 0\n",
      "2020-06-06 06:58:12,467 : INFO : EPOCH 4 - PROGRESS: at 5.88% examples, 241315 words/s, in_qsize 5, out_qsize 0\n",
      "2020-06-06 06:58:13,478 : INFO : EPOCH 4 - PROGRESS: at 7.88% examples, 241719 words/s, in_qsize 6, out_qsize 0\n",
      "2020-06-06 06:58:14,509 : INFO : EPOCH 4 - PROGRESS: at 9.94% examples, 242914 words/s, in_qsize 6, out_qsize 0\n",
      "2020-06-06 06:58:15,531 : INFO : EPOCH 4 - PROGRESS: at 11.93% examples, 243034 words/s, in_qsize 6, out_qsize 0\n",
      "2020-06-06 06:58:16,622 : INFO : EPOCH 4 - PROGRESS: at 13.82% examples, 238946 words/s, in_qsize 5, out_qsize 1\n",
      "2020-06-06 06:58:17,639 : INFO : EPOCH 4 - PROGRESS: at 15.76% examples, 238700 words/s, in_qsize 6, out_qsize 0\n",
      "2020-06-06 06:58:18,648 : INFO : EPOCH 4 - PROGRESS: at 17.75% examples, 239815 words/s, in_qsize 5, out_qsize 0\n",
      "2020-06-06 06:58:19,684 : INFO : EPOCH 4 - PROGRESS: at 19.75% examples, 239795 words/s, in_qsize 5, out_qsize 0\n",
      "2020-06-06 06:58:20,727 : INFO : EPOCH 4 - PROGRESS: at 21.81% examples, 240571 words/s, in_qsize 5, out_qsize 0\n",
      "2020-06-06 06:58:21,762 : INFO : EPOCH 4 - PROGRESS: at 23.75% examples, 240436 words/s, in_qsize 4, out_qsize 1\n",
      "2020-06-06 06:58:22,783 : INFO : EPOCH 4 - PROGRESS: at 25.69% examples, 240244 words/s, in_qsize 6, out_qsize 0\n",
      "2020-06-06 06:58:23,816 : INFO : EPOCH 4 - PROGRESS: at 27.63% examples, 240069 words/s, in_qsize 6, out_qsize 0\n",
      "2020-06-06 06:58:24,839 : INFO : EPOCH 4 - PROGRESS: at 29.57% examples, 240147 words/s, in_qsize 6, out_qsize 0\n",
      "2020-06-06 06:58:25,855 : INFO : EPOCH 4 - PROGRESS: at 31.51% examples, 240185 words/s, in_qsize 5, out_qsize 0\n",
      "2020-06-06 06:58:26,892 : INFO : EPOCH 4 - PROGRESS: at 33.45% examples, 239996 words/s, in_qsize 4, out_qsize 1\n",
      "2020-06-06 06:58:27,901 : INFO : EPOCH 4 - PROGRESS: at 35.39% examples, 240176 words/s, in_qsize 6, out_qsize 0\n",
      "2020-06-06 06:58:28,934 : INFO : EPOCH 4 - PROGRESS: at 37.39% examples, 240324 words/s, in_qsize 6, out_qsize 0\n",
      "2020-06-06 06:58:29,945 : INFO : EPOCH 4 - PROGRESS: at 39.33% examples, 240322 words/s, in_qsize 5, out_qsize 1\n",
      "2020-06-06 06:58:30,984 : INFO : EPOCH 4 - PROGRESS: at 41.39% examples, 240689 words/s, in_qsize 6, out_qsize 0\n",
      "2020-06-06 06:58:32,023 : INFO : EPOCH 4 - PROGRESS: at 43.33% examples, 240451 words/s, in_qsize 4, out_qsize 1\n",
      "2020-06-06 06:58:33,066 : INFO : EPOCH 4 - PROGRESS: at 45.33% examples, 240437 words/s, in_qsize 4, out_qsize 1\n"
     ]
    },
    {
     "name": "stderr",
     "output_type": "stream",
     "text": [
      "2020-06-06 06:58:34,089 : INFO : EPOCH 4 - PROGRESS: at 47.33% examples, 240673 words/s, in_qsize 6, out_qsize 0\n",
      "2020-06-06 06:58:35,098 : INFO : EPOCH 4 - PROGRESS: at 49.27% examples, 240697 words/s, in_qsize 5, out_qsize 0\n",
      "2020-06-06 06:58:36,102 : INFO : EPOCH 4 - PROGRESS: at 51.15% examples, 240478 words/s, in_qsize 5, out_qsize 1\n",
      "2020-06-06 06:58:37,128 : INFO : EPOCH 4 - PROGRESS: at 53.20% examples, 240904 words/s, in_qsize 5, out_qsize 0\n",
      "2020-06-06 06:58:38,167 : INFO : EPOCH 4 - PROGRESS: at 55.14% examples, 240722 words/s, in_qsize 5, out_qsize 0\n",
      "2020-06-06 06:58:39,198 : INFO : EPOCH 4 - PROGRESS: at 57.08% examples, 240552 words/s, in_qsize 5, out_qsize 0\n",
      "2020-06-06 06:58:40,211 : INFO : EPOCH 4 - PROGRESS: at 59.02% examples, 240548 words/s, in_qsize 4, out_qsize 2\n",
      "2020-06-06 06:58:41,218 : INFO : EPOCH 4 - PROGRESS: at 61.02% examples, 240848 words/s, in_qsize 4, out_qsize 1\n",
      "2020-06-06 06:58:42,227 : INFO : EPOCH 4 - PROGRESS: at 62.90% examples, 240602 words/s, in_qsize 5, out_qsize 0\n",
      "2020-06-06 06:58:43,285 : INFO : EPOCH 4 - PROGRESS: at 64.96% examples, 240662 words/s, in_qsize 4, out_qsize 1\n",
      "2020-06-06 06:58:44,330 : INFO : EPOCH 4 - PROGRESS: at 67.02% examples, 240880 words/s, in_qsize 5, out_qsize 0\n",
      "2020-06-06 06:58:45,349 : INFO : EPOCH 4 - PROGRESS: at 68.96% examples, 240845 words/s, in_qsize 4, out_qsize 1\n",
      "2020-06-06 06:58:46,353 : INFO : EPOCH 4 - PROGRESS: at 70.90% examples, 240905 words/s, in_qsize 5, out_qsize 0\n",
      "2020-06-06 06:58:47,356 : INFO : EPOCH 4 - PROGRESS: at 72.84% examples, 240943 words/s, in_qsize 5, out_qsize 0\n",
      "2020-06-06 06:58:48,370 : INFO : EPOCH 4 - PROGRESS: at 74.78% examples, 240917 words/s, in_qsize 5, out_qsize 0\n",
      "2020-06-06 06:58:49,426 : INFO : EPOCH 4 - PROGRESS: at 76.95% examples, 240989 words/s, in_qsize 6, out_qsize 0\n",
      "2020-06-06 06:58:50,435 : INFO : EPOCH 4 - PROGRESS: at 78.95% examples, 241090 words/s, in_qsize 5, out_qsize 0\n",
      "2020-06-06 06:58:51,439 : INFO : EPOCH 4 - PROGRESS: at 80.95% examples, 241247 words/s, in_qsize 5, out_qsize 0\n",
      "2020-06-06 06:58:52,456 : INFO : EPOCH 4 - PROGRESS: at 82.89% examples, 241129 words/s, in_qsize 5, out_qsize 1\n",
      "2020-06-06 06:58:53,480 : INFO : EPOCH 4 - PROGRESS: at 84.83% examples, 241061 words/s, in_qsize 5, out_qsize 0\n",
      "2020-06-06 06:58:54,505 : INFO : EPOCH 4 - PROGRESS: at 86.83% examples, 241094 words/s, in_qsize 5, out_qsize 0\n",
      "2020-06-06 06:58:55,539 : INFO : EPOCH 4 - PROGRESS: at 88.65% examples, 240666 words/s, in_qsize 5, out_qsize 1\n",
      "2020-06-06 06:58:56,547 : INFO : EPOCH 4 - PROGRESS: at 90.48% examples, 240408 words/s, in_qsize 5, out_qsize 0\n",
      "2020-06-06 06:58:57,571 : INFO : EPOCH 4 - PROGRESS: at 92.42% examples, 240237 words/s, in_qsize 5, out_qsize 1\n",
      "2020-06-06 06:58:58,625 : INFO : EPOCH 4 - PROGRESS: at 94.36% examples, 240000 words/s, in_qsize 6, out_qsize 0\n",
      "2020-06-06 06:58:59,632 : INFO : EPOCH 4 - PROGRESS: at 96.36% examples, 240176 words/s, in_qsize 6, out_qsize 0\n",
      "2020-06-06 06:59:00,642 : INFO : EPOCH 4 - PROGRESS: at 98.24% examples, 239951 words/s, in_qsize 5, out_qsize 0\n",
      "2020-06-06 06:59:01,509 : INFO : worker thread finished; awaiting finish of 2 more threads\n",
      "2020-06-06 06:59:01,509 : INFO : worker thread finished; awaiting finish of 1 more threads\n",
      "2020-06-06 06:59:01,549 : INFO : worker thread finished; awaiting finish of 0 more threads\n",
      "2020-06-06 06:59:01,549 : INFO : EPOCH - 4 : training on 17005207 raw words (12506862 effective words) took 52.1s, 239981 effective words/s\n",
      "2020-06-06 06:59:02,566 : INFO : EPOCH 5 - PROGRESS: at 1.82% examples, 226168 words/s, in_qsize 6, out_qsize 0\n",
      "2020-06-06 06:59:03,602 : INFO : EPOCH 5 - PROGRESS: at 3.88% examples, 236998 words/s, in_qsize 5, out_qsize 0\n",
      "2020-06-06 06:59:04,687 : INFO : EPOCH 5 - PROGRESS: at 6.00% examples, 238025 words/s, in_qsize 4, out_qsize 1\n",
      "2020-06-06 06:59:05,689 : INFO : EPOCH 5 - PROGRESS: at 8.00% examples, 240030 words/s, in_qsize 6, out_qsize 0\n",
      "2020-06-06 06:59:06,700 : INFO : EPOCH 5 - PROGRESS: at 9.94% examples, 239501 words/s, in_qsize 4, out_qsize 1\n",
      "2020-06-06 06:59:07,706 : INFO : EPOCH 5 - PROGRESS: at 11.88% examples, 239548 words/s, in_qsize 6, out_qsize 0\n",
      "2020-06-06 06:59:08,751 : INFO : EPOCH 5 - PROGRESS: at 13.87% examples, 239629 words/s, in_qsize 5, out_qsize 0\n",
      "2020-06-06 06:59:09,776 : INFO : EPOCH 5 - PROGRESS: at 15.87% examples, 239918 words/s, in_qsize 5, out_qsize 1\n",
      "2020-06-06 06:59:10,809 : INFO : EPOCH 5 - PROGRESS: at 17.93% examples, 241067 words/s, in_qsize 5, out_qsize 0\n",
      "2020-06-06 06:59:11,818 : INFO : EPOCH 5 - PROGRESS: at 19.99% examples, 242319 words/s, in_qsize 6, out_qsize 0\n",
      "2020-06-06 06:59:12,886 : INFO : EPOCH 5 - PROGRESS: at 21.99% examples, 241647 words/s, in_qsize 5, out_qsize 0\n",
      "2020-06-06 06:59:13,890 : INFO : EPOCH 5 - PROGRESS: at 23.93% examples, 242040 words/s, in_qsize 5, out_qsize 0\n",
      "2020-06-06 06:59:14,904 : INFO : EPOCH 5 - PROGRESS: at 25.81% examples, 241303 words/s, in_qsize 5, out_qsize 0\n",
      "2020-06-06 06:59:15,919 : INFO : EPOCH 5 - PROGRESS: at 27.69% examples, 240803 words/s, in_qsize 4, out_qsize 1\n",
      "2020-06-06 06:59:16,951 : INFO : EPOCH 5 - PROGRESS: at 29.63% examples, 240713 words/s, in_qsize 6, out_qsize 0\n",
      "2020-06-06 06:59:17,969 : INFO : EPOCH 5 - PROGRESS: at 31.63% examples, 241137 words/s, in_qsize 6, out_qsize 0\n",
      "2020-06-06 06:59:18,977 : INFO : EPOCH 5 - PROGRESS: at 33.57% examples, 241287 words/s, in_qsize 5, out_qsize 0\n",
      "2020-06-06 06:59:20,007 : INFO : EPOCH 5 - PROGRESS: at 35.51% examples, 241117 words/s, in_qsize 5, out_qsize 0\n",
      "2020-06-06 06:59:21,021 : INFO : EPOCH 5 - PROGRESS: at 37.51% examples, 241437 words/s, in_qsize 6, out_qsize 0\n",
      "2020-06-06 06:59:22,030 : INFO : EPOCH 5 - PROGRESS: at 39.51% examples, 241813 words/s, in_qsize 6, out_qsize 0\n",
      "2020-06-06 06:59:23,062 : INFO : EPOCH 5 - PROGRESS: at 41.56% examples, 242157 words/s, in_qsize 6, out_qsize 0\n",
      "2020-06-06 06:59:24,080 : INFO : EPOCH 5 - PROGRESS: at 43.45% examples, 241720 words/s, in_qsize 5, out_qsize 0\n",
      "2020-06-06 06:59:25,097 : INFO : EPOCH 5 - PROGRESS: at 45.39% examples, 241628 words/s, in_qsize 6, out_qsize 0\n",
      "2020-06-06 06:59:26,134 : INFO : EPOCH 5 - PROGRESS: at 47.38% examples, 241683 words/s, in_qsize 5, out_qsize 0\n",
      "2020-06-06 06:59:27,192 : INFO : EPOCH 5 - PROGRESS: at 49.38% examples, 241501 words/s, in_qsize 5, out_qsize 0\n",
      "2020-06-06 06:59:28,211 : INFO : EPOCH 5 - PROGRESS: at 51.32% examples, 241399 words/s, in_qsize 5, out_qsize 1\n",
      "2020-06-06 06:59:29,233 : INFO : EPOCH 5 - PROGRESS: at 53.32% examples, 241560 words/s, in_qsize 5, out_qsize 0\n",
      "2020-06-06 06:59:30,279 : INFO : EPOCH 5 - PROGRESS: at 55.32% examples, 241547 words/s, in_qsize 5, out_qsize 0\n",
      "2020-06-06 06:59:31,282 : INFO : EPOCH 5 - PROGRESS: at 57.26% examples, 241556 words/s, in_qsize 6, out_qsize 0\n",
      "2020-06-06 06:59:32,303 : INFO : EPOCH 5 - PROGRESS: at 59.26% examples, 241695 words/s, in_qsize 6, out_qsize 0\n",
      "2020-06-06 06:59:33,317 : INFO : EPOCH 5 - PROGRESS: at 61.14% examples, 241444 words/s, in_qsize 5, out_qsize 0\n",
      "2020-06-06 06:59:34,377 : INFO : EPOCH 5 - PROGRESS: at 62.96% examples, 240587 words/s, in_qsize 4, out_qsize 1\n",
      "2020-06-06 06:59:35,386 : INFO : EPOCH 5 - PROGRESS: at 64.79% examples, 240156 words/s, in_qsize 5, out_qsize 0\n",
      "2020-06-06 06:59:36,486 : INFO : EPOCH 5 - PROGRESS: at 66.49% examples, 238715 words/s, in_qsize 5, out_qsize 0\n",
      "2020-06-06 06:59:37,527 : INFO : EPOCH 5 - PROGRESS: at 68.31% examples, 238184 words/s, in_qsize 6, out_qsize 0\n",
      "2020-06-06 06:59:38,569 : INFO : EPOCH 5 - PROGRESS: at 70.25% examples, 238053 words/s, in_qsize 5, out_qsize 0\n",
      "2020-06-06 06:59:39,569 : INFO : EPOCH 5 - PROGRESS: at 72.19% examples, 238211 words/s, in_qsize 5, out_qsize 0\n",
      "2020-06-06 06:59:40,588 : INFO : EPOCH 5 - PROGRESS: at 74.07% examples, 238082 words/s, in_qsize 4, out_qsize 1\n",
      "2020-06-06 06:59:41,589 : INFO : EPOCH 5 - PROGRESS: at 76.13% examples, 238277 words/s, in_qsize 6, out_qsize 0\n",
      "2020-06-06 06:59:42,595 : INFO : EPOCH 5 - PROGRESS: at 78.19% examples, 238556 words/s, in_qsize 6, out_qsize 0\n",
      "2020-06-06 06:59:43,612 : INFO : EPOCH 5 - PROGRESS: at 80.19% examples, 238694 words/s, in_qsize 6, out_qsize 0\n",
      "2020-06-06 06:59:44,613 : INFO : EPOCH 5 - PROGRESS: at 82.13% examples, 238754 words/s, in_qsize 5, out_qsize 0\n"
     ]
    },
    {
     "name": "stderr",
     "output_type": "stream",
     "text": [
      "2020-06-06 06:59:45,639 : INFO : EPOCH 5 - PROGRESS: at 84.07% examples, 238738 words/s, in_qsize 5, out_qsize 1\n",
      "2020-06-06 06:59:46,657 : INFO : EPOCH 5 - PROGRESS: at 86.01% examples, 238709 words/s, in_qsize 6, out_qsize 0\n",
      "2020-06-06 06:59:47,687 : INFO : EPOCH 5 - PROGRESS: at 88.07% examples, 238929 words/s, in_qsize 5, out_qsize 0\n",
      "2020-06-06 06:59:48,733 : INFO : EPOCH 5 - PROGRESS: at 90.01% examples, 238844 words/s, in_qsize 5, out_qsize 1\n",
      "2020-06-06 06:59:49,769 : INFO : EPOCH 5 - PROGRESS: at 91.95% examples, 238658 words/s, in_qsize 4, out_qsize 2\n",
      "2020-06-06 06:59:50,804 : INFO : EPOCH 5 - PROGRESS: at 94.00% examples, 238832 words/s, in_qsize 5, out_qsize 0\n",
      "2020-06-06 06:59:51,824 : INFO : EPOCH 5 - PROGRESS: at 95.94% examples, 238833 words/s, in_qsize 5, out_qsize 0\n",
      "2020-06-06 06:59:52,828 : INFO : EPOCH 5 - PROGRESS: at 97.88% examples, 238805 words/s, in_qsize 5, out_qsize 0\n",
      "2020-06-06 06:59:53,832 : INFO : EPOCH 5 - PROGRESS: at 99.65% examples, 238464 words/s, in_qsize 6, out_qsize 0\n",
      "2020-06-06 06:59:53,990 : INFO : worker thread finished; awaiting finish of 2 more threads\n",
      "2020-06-06 06:59:54,007 : INFO : worker thread finished; awaiting finish of 1 more threads\n",
      "2020-06-06 06:59:54,022 : INFO : worker thread finished; awaiting finish of 0 more threads\n",
      "2020-06-06 06:59:54,023 : INFO : EPOCH - 5 : training on 17005207 raw words (12507977 effective words) took 52.5s, 238379 effective words/s\n",
      "2020-06-06 06:59:54,023 : INFO : training on a 85026035 raw words (62533763 effective words) took 262.5s, 238236 effective words/s\n"
     ]
    }
   ],
   "source": [
    "import gensim.downloader as api\n",
    "\n",
    "dataset = api.load(\"text8\")\n",
    "w2v_model_2 = Word2Vec(dataset)\n",
    "fastxt_model_2 = FastText(dataset)"
   ]
  },
  {
   "cell_type": "code",
   "execution_count": 13,
   "metadata": {},
   "outputs": [
    {
     "name": "stderr",
     "output_type": "stream",
     "text": [
      "/home/miguel/anaconda3/lib/python3.7/site-packages/ipykernel_launcher.py:3: DeprecationWarning: Call to deprecated `__getitem__` (Method will be removed in 4.0.0, use self.wv.__getitem__() instead).\n",
      "  This is separate from the ipykernel package so we can avoid doing imports until\n",
      "/home/miguel/anaconda3/lib/python3.7/site-packages/ipykernel_launcher.py:6: DeprecationWarning: Call to deprecated `__getitem__` (Method will be removed in 4.0.0, use self.wv.__getitem__() instead).\n",
      "  \n",
      "/home/miguel/anaconda3/lib/python3.7/site-packages/ipykernel_launcher.py:9: DeprecationWarning: Call to deprecated `__getitem__` (Method will be removed in 4.0.0, use self.wv.__getitem__() instead).\n",
      "  if __name__ == '__main__':\n"
     ]
    },
    {
     "name": "stdout",
     "output_type": "stream",
     "text": [
      "Word2Vec number of embeddings: 2709\n",
      "FastText number of embeddings: 3382\n"
     ]
    }
   ],
   "source": [
    "w2v_emb = []; fastxt_emb = []\n",
    "X_w2v = []; y_w2v = []\n",
    "X_fastxt = []; y_fastxt = []\n",
    "for i in range(len(df_afinn[0])):\n",
    "    if try_apply(w2v_model_2, df_afinn[0][i]):\n",
    "        X_w2v.append(w2v_model_2[df_afinn[0][i]])\n",
    "        y_w2v.append(df_afinn[1][i])\n",
    "    if try_apply(fastxt_model_2, df_afinn[0][i]):\n",
    "        X_fastxt.append(fastxt_model_2[df_afinn[0][i]])\n",
    "        y_fastxt.append(df_afinn[1][i])\n",
    "print('Word2Vec number of embeddings: {}'.format(len(X_w2v)))\n",
    "print('FastText number of embeddings: {}'.format(len(X_fastxt)))"
   ]
  },
  {
   "cell_type": "code",
   "execution_count": 14,
   "metadata": {},
   "outputs": [],
   "source": [
    "X_w2v_train, X_w2v_test, y_w2v_train, y_w2v_test = train_test_split(X_w2v, y_w2v, random_state=0, test_size=0.1, stratify=y_w2v)\n",
    "X_fastxt_train, X_fastxt_test, y_fastxt_train, y_fastxt_test = train_test_split(X_fastxt, y_fastxt, random_state=0, test_size=0.1, stratify=y_fastxt)"
   ]
  },
  {
   "cell_type": "code",
   "execution_count": 15,
   "metadata": {},
   "outputs": [
    {
     "name": "stdout",
     "output_type": "stream",
     "text": [
      "Word2Vec Logistic Regression Performance:\n",
      "Confusion Matrix:\n",
      "[[157  15]\n",
      " [ 42  57]]\n",
      "Classification Report:\n",
      "              precision    recall  f1-score   support\n",
      "\n",
      "          -1       0.79      0.91      0.85       172\n",
      "           1       0.79      0.58      0.67        99\n",
      "\n",
      "    accuracy                           0.79       271\n",
      "   macro avg       0.79      0.74      0.76       271\n",
      "weighted avg       0.79      0.79      0.78       271\n",
      "\n",
      "Accuracy: 0.7896678966789668\n",
      "\n",
      "FastText Logistic Regression Performance:\n",
      "Confusion Matrix:\n",
      "[[197  24]\n",
      " [ 56  62]]\n",
      "Classification Report:\n",
      "              precision    recall  f1-score   support\n",
      "\n",
      "          -1       0.78      0.89      0.83       221\n",
      "           1       0.72      0.53      0.61       118\n",
      "\n",
      "    accuracy                           0.76       339\n",
      "   macro avg       0.75      0.71      0.72       339\n",
      "weighted avg       0.76      0.76      0.75       339\n",
      "\n",
      "Accuracy: 0.7640117994100295\n"
     ]
    }
   ],
   "source": [
    "lr_w2v_clf = LogisticRegression()\n",
    "lr_fastxt_clf = LogisticRegression()\n",
    "lr_w2v_clf.fit(X_w2v_train, y_w2v_train)\n",
    "lr_fastxt_clf.fit(X_fastxt_train, y_fastxt_train)\n",
    "y_w2v_pred = lr_w2v_clf.predict(X_w2v_test)\n",
    "y_fastxt_pred = lr_fastxt_clf.predict(X_fastxt_test)\n",
    "print('Word2Vec Logistic Regression Performance:')\n",
    "print('Confusion Matrix:')\n",
    "print(confusion_matrix(y_w2v_test, y_w2v_pred))\n",
    "print('Classification Report:')\n",
    "print(classification_report(y_w2v_test, y_w2v_pred))\n",
    "print('Accuracy: {}'.format(accuracy_score(y_w2v_test, y_w2v_pred)))\n",
    "print('\\nFastText Logistic Regression Performance:')\n",
    "print('Confusion Matrix:')\n",
    "print(confusion_matrix(y_fastxt_test, y_fastxt_pred))\n",
    "print('Classification Report:')\n",
    "print(classification_report(y_fastxt_test, y_fastxt_pred))\n",
    "print('Accuracy: {}'.format(accuracy_score(y_fastxt_test, y_fastxt_pred)))"
   ]
  },
  {
   "cell_type": "markdown",
   "metadata": {},
   "source": [
    "**Pregunta 2**: Utilizar wefe para ver si el modelo w2v entrenado con los dialogos de los Simpson tienen algun bias entre los personajes hombres y la cerveza (1 punto):"
   ]
  },
  {
   "cell_type": "markdown",
   "metadata": {},
   "source": [
    "**Respuesta**:"
   ]
  },
  {
   "cell_type": "code",
   "execution_count": 16,
   "metadata": {},
   "outputs": [
    {
     "data": {
      "text/plain": [
       "{'query_name': 'Male Characters and Female Characters wrt Beer',\n",
       " 'result': -0.3511580228805542,\n",
       " 'results_by_word': {'beer': -0.35115802}}"
      ]
     },
     "execution_count": 16,
     "metadata": {},
     "output_type": "execute_result"
    }
   ],
   "source": [
    "from wefe.query import Query\n",
    "from wefe.word_embedding_model import WordEmbeddingModel\n",
    "from wefe.metrics import RND\n",
    "\n",
    "model = WordEmbeddingModel(w2v_model.wv)\n",
    "male_characters = ['Homer', 'Bart', 'Moe', 'Lenny', 'Carl', 'Barney', 'Apu']\n",
    "female_characters = ['Marge', 'Lisa', 'Patty', 'Selma', 'Edna', 'Hoover', 'Manjula']\n",
    "\n",
    "RND().run_query(\n",
    "    Query([male_characters, female_characters], [['beer']], \n",
    "          ['Male Characters', 'Female Characters'], ['Beer']), model)"
   ]
  },
  {
   "cell_type": "markdown",
   "metadata": {},
   "source": [
    "Como $RND<0$, se concluye que el término *cerveza* se encuentra sesgado a los **personajes masculinos** en el corpus de *Los Simpsons*."
   ]
  }
 ],
 "metadata": {
  "colab": {
   "name": "Minitarea3.ipynb",
   "provenance": [],
   "toc_visible": true
  },
  "kernelspec": {
   "display_name": "Python 3",
   "language": "python",
   "name": "python3"
  },
  "language_info": {
   "codemirror_mode": {
    "name": "ipython",
    "version": 3
   },
   "file_extension": ".py",
   "mimetype": "text/x-python",
   "name": "python",
   "nbconvert_exporter": "python",
   "pygments_lexer": "ipython3",
   "version": "3.7.6"
  }
 },
 "nbformat": 4,
 "nbformat_minor": 1
}
